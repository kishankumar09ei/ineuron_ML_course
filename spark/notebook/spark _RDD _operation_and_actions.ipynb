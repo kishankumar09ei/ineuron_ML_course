{
 "cells": [
  {
   "cell_type": "code",
   "execution_count": 1,
   "metadata": {},
   "outputs": [],
   "source": [
    "import findspark\n",
    "findspark.init()\n"
   ]
  },
  {
   "cell_type": "code",
   "execution_count": 2,
   "metadata": {},
   "outputs": [],
   "source": [
    "import pyspark"
   ]
  },
  {
   "cell_type": "code",
   "execution_count": 3,
   "metadata": {},
   "outputs": [],
   "source": [
    "from pyspark import SparkContext, SparkConf\n",
    "sc=SparkContext()\n",
    "\n",
    "#this is also a method\n"
   ]
  },
  {
   "cell_type": "code",
   "execution_count": 3,
   "metadata": {
    "scrolled": true
   },
   "outputs": [],
   "source": [
    "# from pyspark.sql import SparkSession\n",
    "# sc=SparkSession.builder.appName(\"SparkRDD\").getOrCreate()"
   ]
  },
  {
   "cell_type": "code",
   "execution_count": 5,
   "metadata": {},
   "outputs": [],
   "source": [
    "#loading data from file\n",
    "autoData=sc.textFile(\"auto-data.csv\")#importing csv file"
   ]
  },
  {
   "cell_type": "code",
   "execution_count": 6,
   "metadata": {
    "scrolled": false
   },
   "outputs": [
    {
     "data": {
      "text/plain": [
       "auto-data.csv MapPartitionsRDD[1] at textFile at <unknown>:0"
      ]
     },
     "execution_count": 6,
     "metadata": {},
     "output_type": "execute_result"
    }
   ],
   "source": [
    "autoData.cache()#RDD will be cashed in memory"
   ]
  },
  {
   "cell_type": "code",
   "execution_count": 7,
   "metadata": {},
   "outputs": [
    {
     "data": {
      "text/plain": [
       "['MAKE,FUELTYPE,ASPIRE,DOORS,BODY,DRIVE,CYLINDERS,HP,RPM,MPG-CITY,MPG-HWY,PRICE',\n",
       " 'subaru,gas,std,two,hatchback,fwd,four,69,4900,31,36,5118',\n",
       " 'chevrolet,gas,std,two,hatchback,fwd,three,48,5100,47,53,5151',\n",
       " 'mazda,gas,std,two,hatchback,fwd,four,68,5000,30,31,5195',\n",
       " 'toyota,gas,std,two,hatchback,fwd,four,62,4800,35,39,5348',\n",
       " 'mitsubishi,gas,std,two,hatchback,fwd,four,68,5500,37,41,5389',\n",
       " 'honda,gas,std,two,hatchback,fwd,four,60,5500,38,42,5399',\n",
       " 'nissan,gas,std,two,sedan,fwd,four,69,5200,31,37,5499',\n",
       " 'dodge,gas,std,two,hatchback,fwd,four,68,5500,37,41,5572',\n",
       " 'plymouth,gas,std,two,hatchback,fwd,four,68,5500,37,41,5572',\n",
       " 'mazda,gas,std,two,hatchback,fwd,four,68,5000,31,38,6095',\n",
       " 'mitsubishi,gas,std,two,hatchback,fwd,four,68,5500,31,38,6189',\n",
       " 'dodge,gas,std,four,hatchback,fwd,four,68,5500,31,38,6229',\n",
       " 'plymouth,gas,std,four,hatchback,fwd,four,68,5500,31,38,6229',\n",
       " 'chevrolet,gas,std,two,hatchback,fwd,four,70,5400,38,43,6295',\n",
       " 'toyota,gas,std,two,hatchback,fwd,four,62,4800,31,38,6338',\n",
       " 'dodge,gas,std,two,hatchback,fwd,four,68,5500,31,38,6377',\n",
       " 'honda,gas,std,two,hatchback,fwd,four,58,4800,49,54,6479',\n",
       " 'toyota,gas,std,four,hatchback,fwd,four,62,4800,31,38,6488',\n",
       " 'honda,gas,std,two,hatchback,fwd,four,76,6000,30,34,6529',\n",
       " 'chevrolet,gas,std,four,sedan,fwd,four,70,5400,38,43,6575',\n",
       " 'nissan,gas,std,two,sedan,fwd,four,69,5200,31,37,6649',\n",
       " 'mitsubishi,gas,std,two,hatchback,fwd,four,68,5500,31,38,6669',\n",
       " 'dodge,gas,std,four,sedan,fwd,four,68,5500,31,38,6692',\n",
       " 'plymouth,gas,std,four,sedan,fwd,four,68,5500,31,38,6692',\n",
       " 'mazda,gas,std,four,sedan,fwd,four,68,5000,31,38,6695',\n",
       " 'isuzu,gas,std,four,sedan,rwd,four,78,4800,24,29,6785',\n",
       " 'mazda,gas,std,two,hatchback,fwd,four,68,5000,31,38,6795',\n",
       " 'nissan,gas,std,four,sedan,fwd,four,69,5200,31,37,6849',\n",
       " 'honda,gas,std,two,hatchback,fwd,four,76,6000,31,38,6855',\n",
       " 'toyota,gas,std,four,wagon,fwd,four,62,4800,31,37,6918',\n",
       " 'toyota,gas,std,four,sedan,fwd,four,70,4800,30,37,6938',\n",
       " 'mitsubishi,gas,std,four,sedan,fwd,four,88,5000,25,32,6989',\n",
       " 'subaru,gas,std,two,hatchback,fwd,four,73,4400,26,31,7053',\n",
       " 'nissan,diesel,std,two,sedan,fwd,four,55,4800,45,50,7099',\n",
       " 'subaru,gas,std,four,sedan,fwd,four,82,4800,32,37,7126',\n",
       " 'honda,gas,std,two,hatchback,fwd,four,76,6000,30,34,7129',\n",
       " 'toyota,gas,std,four,hatchback,fwd,four,70,4800,30,37,7198',\n",
       " 'honda,gas,std,four,sedan,fwd,four,76,6000,30,34,7295',\n",
       " 'honda,gas,std,four,wagon,fwd,four,76,6000,30,34,7295',\n",
       " 'nissan,gas,std,two,sedan,fwd,four,69,5200,31,37,7299',\n",
       " 'nissan,gas,std,four,wagon,fwd,four,69,5200,31,37,7349',\n",
       " 'mazda,gas,std,four,sedan,fwd,four,68,5000,31,38,7395',\n",
       " 'subaru,gas,std,four,wagon,fwd,four,82,4800,28,32,7463',\n",
       " 'nissan,gas,std,four,sedan,fwd,four,69,5200,31,37,7499',\n",
       " 'subaru,gas,std,two,hatchback,4wd,four,73,4400,26,31,7603',\n",
       " 'dodge,gas,std,four,sedan,fwd,four,68,5500,31,38,7609',\n",
       " 'plymouth,gas,std,four,sedan,fwd,four,68,5500,31,38,7609',\n",
       " 'mitsubishi,gas,turbo,two,hatchback,fwd,four,102,5500,24,30,7689',\n",
       " 'toyota,gas,std,four,sedan,fwd,four,70,4800,38,47,7738',\n",
       " 'subaru,gas,std,four,sedan,fwd,four,82,4400,28,33,7775',\n",
       " 'volkswagen,diesel,std,two,sedan,fwd,four,52,4800,37,46,7775',\n",
       " 'toyota,diesel,std,four,hatchback,fwd,four,56,4500,38,47,7788',\n",
       " 'nissan,gas,std,two,hatchback,fwd,four,69,5200,31,37,7799',\n",
       " 'honda,gas,std,two,hatchback,fwd,four,86,5800,27,33,7895',\n",
       " 'toyota,gas,std,four,wagon,4wd,four,62,4800,27,32,7898',\n",
       " 'toyota,diesel,std,four,sedan,fwd,four,56,4500,34,36,7898',\n",
       " 'dodge,gas,turbo,two,hatchback,fwd,four,102,5500,24,30,7957',\n",
       " 'plymouth,gas,turbo,two,hatchback,fwd,four,102,5500,24,30,7957',\n",
       " 'volkswagen,gas,std,two,sedan,fwd,four,85,5250,27,34,7975',\n",
       " 'volkswagen,diesel,std,four,sedan,fwd,four,52,4800,37,46,7995',\n",
       " 'nissan,gas,std,four,wagon,fwd,four,69,5200,31,37,7999',\n",
       " 'subaru,gas,std,four,wagon,4wd,four,82,4800,23,29,8013',\n",
       " 'toyota,gas,std,two,sedan,rwd,four,70,4800,29,34,8058',\n",
       " 'mitsubishi,gas,std,four,sedan,fwd,four,88,5000,25,32,8189',\n",
       " 'volkswagen,gas,std,four,sedan,fwd,four,85,5250,27,34,8195',\n",
       " 'toyota,gas,std,two,hatchback,rwd,four,70,4800,29,34,8238',\n",
       " 'nissan,gas,std,two,hardtop,fwd,four,69,5200,31,37,8249',\n",
       " 'toyota,gas,std,four,hatchback,fwd,four,70,4800,28,34,8358',\n",
       " 'toyota,gas,std,two,hardtop,rwd,four,116,4800,24,30,8449',\n",
       " 'mazda,gas,std,four,sedan,fwd,four,84,4800,26,32,8495',\n",
       " 'volkswagen,gas,std,four,sedan,fwd,four,85,5250,27,34,8495',\n",
       " 'mitsubishi,gas,std,two,hatchback,fwd,four,88,5000,25,32,8499',\n",
       " 'toyota,gas,std,four,wagon,4wd,four,62,4800,27,32,8778',\n",
       " 'honda,gas,std,four,sedan,fwd,four,86,5800,27,33,8845',\n",
       " 'mazda,gas,std,two,hatchback,fwd,four,84,4800,26,32,8845',\n",
       " 'dodge,gas,std,four,wagon,fwd,four,88,5000,24,30,8921',\n",
       " 'plymouth,gas,std,four,wagon,fwd,four,88,5000,24,30,8921',\n",
       " 'toyota,gas,std,four,sedan,fwd,four,92,4200,29,34,8948',\n",
       " 'nissan,gas,std,four,hatchback,fwd,four,97,5200,27,34,8949',\n",
       " 'honda,gas,std,two,hatchback,fwd,four,86,5800,27,33,9095',\n",
       " 'subaru,gas,std,four,sedan,4wd,four,82,4800,24,25,9233',\n",
       " 'toyota,gas,std,four,sedan,fwd,four,70,4800,28,34,9258',\n",
       " 'mitsubishi,gas,turbo,four,sedan,fwd,four,116,5500,23,30,9279',\n",
       " 'mitsubishi,gas,std,four,sedan,fwd,four,116,5500,23,30,9279',\n",
       " 'toyota,gas,std,two,sedan,rwd,four,112,6600,26,29,9298',\n",
       " 'volkswagen,diesel,turbo,four,sedan,fwd,four,68,4500,37,42,9495',\n",
       " 'toyota,gas,std,two,hatchback,rwd,four,112,6600,26,29,9538',\n",
       " 'nissan,gas,std,four,sedan,fwd,four,97,5200,27,34,9549',\n",
       " 'toyota,gas,std,two,hardtop,rwd,four,116,4800,24,30,9639',\n",
       " 'mitsubishi,gas,turbo,two,hatchback,fwd,four,116,5500,23,30,9959',\n",
       " 'subaru,gas,std,four,sedan,fwd,four,94,5200,26,32,9960',\n",
       " 'volkswagen,gas,std,two,hatchback,fwd,four,90,5500,24,29,9980',\n",
       " 'toyota,gas,std,four,hatchback,fwd,four,92,4200,27,32,9988',\n",
       " 'toyota,gas,std,two,hatchback,rwd,four,116,4800,24,30,9989',\n",
       " 'volkswagen,gas,std,four,sedan,fwd,four,100,5500,26,32,9995',\n",
       " 'subaru,gas,std,four,wagon,fwd,four,94,5200,25,31,10198',\n",
       " 'mazda,gas,std,four,sedan,fwd,four,84,4800,26,32,10245',\n",
       " 'honda,gas,std,four,sedan,fwd,four,86,5800,27,33,10295',\n",
       " 'honda,gas,std,two,sedan,fwd,four,100,5500,25,31,10345',\n",
       " 'mazda,gas,std,two,hatchback,fwd,four,84,4800,26,32,10595',\n",
       " 'toyota,diesel,turbo,four,sedan,fwd,four,73,4500,30,33,10698',\n",
       " 'toyota,gas,std,four,sedan,fwd,four,92,4200,27,32,10898',\n",
       " 'mazda,gas,std,two,hatchback,rwd,two,101,6000,17,23,10945',\n",
       " 'isuzu,gas,std,two,hatchback,rwd,four,90,5000,24,29,11048',\n",
       " 'toyota,gas,std,two,hardtop,rwd,four,116,4800,24,30,11199',\n",
       " 'mazda,gas,std,four,hatchback,fwd,four,84,4800,26,32,11245',\n",
       " 'toyota,gas,std,four,hatchback,fwd,four,92,4200,27,32,11248',\n",
       " 'subaru,gas,turbo,four,sedan,4wd,four,111,4800,24,29,11259',\n",
       " 'toyota,gas,std,two,hatchback,rwd,four,116,4800,24,30,11549',\n",
       " 'volkswagen,gas,std,two,convertible,fwd,four,90,5500,24,29,11595',\n",
       " 'subaru,gas,turbo,four,wagon,4wd,four,111,4800,23,23,11694',\n",
       " 'mazda,gas,std,two,hatchback,rwd,two,101,6000,17,23,11845',\n",
       " 'saab,gas,std,two,hatchback,fwd,four,110,5250,21,28,11850',\n",
       " 'peugot,gas,std,four,sedan,rwd,four,97,5000,19,24,11900',\n",
       " 'saab,gas,std,four,sedan,fwd,four,110,5250,21,28,12170',\n",
       " 'volkswagen,gas,std,four,wagon,fwd,four,88,5500,25,31,12290',\n",
       " 'peugot,gas,std,four,wagon,rwd,four,97,5000,19,24,12440',\n",
       " 'mitsubishi,gas,turbo,two,hatchback,fwd,four,145,5000,19,24,12629',\n",
       " 'plymouth,gas,turbo,two,hatchback,rwd,four,145,5000,19,24,12764',\n",
       " 'volvo,gas,std,four,sedan,rwd,four,114,5400,23,28,12940',\n",
       " 'honda,gas,std,four,sedan,fwd,four,101,5800,24,28,12945',\n",
       " 'dodge,gas,turbo,two,hatchback,fwd,four,145,5000,19,24,12964',\n",
       " 'peugot,diesel,turbo,four,sedan,rwd,four,95,4150,28,33,13200',\n",
       " 'volkswagen,gas,std,four,sedan,fwd,five,110,5500,19,24,13295',\n",
       " 'volvo,gas,std,four,wagon,rwd,four,114,5400,23,28,13415',\n",
       " 'alfa-romero,gas,std,two,convertible,rwd,four,111,5000,21,27,13495',\n",
       " 'nissan,gas,std,four,sedan,fwd,six,152,5200,17,22,13499',\n",
       " 'nissan,gas,std,four,sedan,fwd,six,152,5200,19,25,13499',\n",
       " 'mazda,gas,std,two,hatchback,rwd,two,101,6000,17,23,13645',\n",
       " 'volkswagen,diesel,turbo,four,sedan,fwd,four,68,4500,33,38,13845',\n",
       " 'peugot,diesel,turbo,four,wagon,rwd,four,95,4150,25,25,13860',\n",
       " 'audi,gas,std,four,sedan,fwd,four,102,5500,24,30,13950',\n",
       " 'nissan,gas,std,four,wagon,fwd,six,152,5200,17,22,14399',\n",
       " 'mitsubishi,gas,turbo,two,hatchback,fwd,four,145,5000,19,24,14489',\n",
       " 'mitsubishi,gas,turbo,two,hatchback,fwd,four,145,5000,19,24,14869',\n",
       " 'saab,gas,std,two,hatchback,fwd,four,110,5250,21,28,15040',\n",
       " 'audi,gas,std,two,sedan,fwd,five,110,5500,19,25,15250',\n",
       " 'saab,gas,std,four,sedan,fwd,four,110,5250,21,28,15510',\n",
       " 'peugot,gas,std,four,sedan,rwd,four,95,5000,19,24,15580',\n",
       " 'mazda,gas,std,two,hatchback,rwd,two,135,6000,16,23,15645',\n",
       " 'toyota,gas,std,four,sedan,rwd,six,156,5200,20,24,15690',\n",
       " 'toyota,gas,std,four,wagon,rwd,six,156,5200,19,24,15750',\n",
       " 'volvo,gas,std,four,sedan,rwd,four,114,5400,24,28,15985',\n",
       " 'toyota,gas,std,two,hatchback,rwd,six,161,5200,19,24,15998',\n",
       " 'bmw,gas,std,two,sedan,rwd,four,101,5800,23,29,16430',\n",
       " 'alfa-romero,gas,std,two,convertible,rwd,four,111,5000,21,27,16500',\n",
       " 'alfa-romero,gas,std,two,hatchback,rwd,six,154,5000,19,26,16500',\n",
       " 'mercury,gas,turbo,two,hatchback,rwd,four,175,5000,19,24,16503',\n",
       " 'volvo,gas,std,four,wagon,rwd,four,114,5400,24,28,16515',\n",
       " 'toyota,gas,std,two,hatchback,rwd,six,161,5200,20,24,16558',\n",
       " 'peugot,gas,std,four,sedan,rwd,four,97,5000,19,24,16630',\n",
       " 'peugot,gas,std,four,wagon,rwd,four,95,5000,19,24,16695',\n",
       " 'volvo,gas,std,four,sedan,rwd,four,114,5400,23,28,16845',\n",
       " 'peugot,diesel,turbo,four,sedan,rwd,four,95,4150,28,33,16900',\n",
       " 'bmw,gas,std,four,sedan,rwd,four,101,5800,23,29,16925',\n",
       " 'peugot,diesel,turbo,four,wagon,rwd,four,95,4150,25,25,17075',\n",
       " 'nissan,gas,std,two,hatchback,rwd,six,160,5200,19,25,17199',\n",
       " 'audi,gas,std,four,sedan,4wd,five,115,5500,18,22,17450',\n",
       " 'toyota,gas,std,two,convertible,rwd,four,116,4800,24,30,17669',\n",
       " 'audi,gas,std,four,sedan,fwd,five,110,5500,19,25,17710',\n",
       " 'peugot,diesel,turbo,four,sedan,rwd,four,95,4150,28,33,17950',\n",
       " 'peugot,gas,turbo,four,sedan,rwd,four,142,5600,18,24,18150',\n",
       " 'saab,gas,turbo,two,hatchback,fwd,four,160,5500,19,26,18150',\n",
       " 'mazda,gas,std,four,sedan,rwd,four,120,5000,19,27,18280',\n",
       " 'mazda,diesel,std,four,sedan,rwd,four,72,4200,31,39,18344',\n",
       " 'nissan,gas,std,two,hatchback,rwd,six,160,5200,19,25,18399',\n",
       " 'volvo,gas,turbo,four,sedan,rwd,four,162,5100,17,22,18420',\n",
       " 'saab,gas,turbo,four,sedan,fwd,four,160,5500,19,26,18620',\n",
       " 'audi,gas,std,four,wagon,fwd,five,110,5500,19,25,18920',\n",
       " 'volvo,gas,turbo,four,wagon,rwd,four,162,5100,17,22,18950',\n",
       " 'volvo,gas,turbo,four,sedan,rwd,four,160,5300,19,25,19045',\n",
       " 'nissan,gas,turbo,two,hatchback,rwd,six,200,5200,17,23,19699',\n",
       " 'bmw,gas,std,two,sedan,rwd,six,121,4250,21,28,20970',\n",
       " 'bmw,gas,std,four,sedan,rwd,six,121,4250,21,28,21105',\n",
       " 'volvo,gas,std,four,sedan,rwd,six,134,5500,18,23,21485',\n",
       " 'porsche,gas,std,two,hatchback,rwd,four,143,5500,19,27,22018',\n",
       " 'volvo,diesel,turbo,four,sedan,rwd,six,106,4800,26,27,22470',\n",
       " 'volvo,gas,turbo,four,sedan,rwd,four,114,5400,19,25,22625',\n",
       " 'audi,gas,turbo,four,sedan,fwd,five,140,5500,17,20,23875',\n",
       " 'bmw,gas,std,four,sedan,rwd,six,121,4250,20,25,24565',\n",
       " 'mercedes-benz,diesel,turbo,four,sedan,rwd,five,123,4350,22,25,25552',\n",
       " 'mercedes-benz,diesel,turbo,two,hardtop,rwd,five,123,4350,22,25,28176',\n",
       " 'mercedes-benz,diesel,turbo,four,wagon,rwd,five,123,4350,22,25,28248',\n",
       " 'bmw,gas,std,four,sedan,rwd,six,182,5400,16,22,30760',\n",
       " 'mercedes-benz,diesel,turbo,four,sedan,rwd,five,123,4350,22,25,31600',\n",
       " 'jaguar,gas,std,four,sedan,rwd,six,176,4750,15,19,32250',\n",
       " 'porsche,gas,std,two,hardtop,rwd,six,207,5900,17,25,32528',\n",
       " 'porsche,gas,std,two,hardtop,rwd,six,207,5900,17,25,34028',\n",
       " 'mercedes-benz,gas,std,four,sedan,rwd,eight,155,4750,16,18,34184',\n",
       " 'mercedes-benz,gas,std,two,convertible,rwd,eight,155,4750,16,18,35056',\n",
       " 'jaguar,gas,std,four,sedan,rwd,six,176,4750,15,19,35550',\n",
       " 'jaguar,gas,std,two,sedan,rwd,twelve,262,5000,13,17,36000',\n",
       " 'bmw,gas,std,four,sedan,rwd,six,182,5400,15,20,36880',\n",
       " 'porsche,gas,std,two,convertible,rwd,six,207,5900,17,25,37028',\n",
       " 'mercedes-benz,gas,std,four,sedan,rwd,eight,184,4500,14,16,40960',\n",
       " 'bmw,gas,std,two,sedan,rwd,six,182,5400,16,22,41315',\n",
       " 'mercedes-benz,gas,std,two,hardtop,rwd,eight,184,4500,14,16,45400']"
      ]
     },
     "execution_count": 7,
     "metadata": {},
     "output_type": "execute_result"
    }
   ],
   "source": [
    "autoData.collect()"
   ]
  },
  {
   "cell_type": "code",
   "execution_count": 10,
   "metadata": {},
   "outputs": [
    {
     "data": {
      "text/plain": [
       "198"
      ]
     },
     "execution_count": 10,
     "metadata": {},
     "output_type": "execute_result"
    }
   ],
   "source": [
    "autoData.count()"
   ]
  },
  {
   "cell_type": "code",
   "execution_count": 11,
   "metadata": {},
   "outputs": [
    {
     "data": {
      "text/plain": [
       "Row(_c0='MAKE', _c1='FUELTYPE', _c2='ASPIRE', _c3='DOORS', _c4='BODY', _c5='DRIVE', _c6='CYLINDERS', _c7='HP', _c8='RPM', _c9='MPG-CITY', _c10='MPG-HWY', _c11='PRICE')"
      ]
     },
     "execution_count": 11,
     "metadata": {},
     "output_type": "execute_result"
    }
   ],
   "source": [
    "autoData.first()"
   ]
  },
  {
   "cell_type": "code",
   "execution_count": 12,
   "metadata": {},
   "outputs": [
    {
     "data": {
      "text/plain": [
       "[Row(_c0='MAKE', _c1='FUELTYPE', _c2='ASPIRE', _c3='DOORS', _c4='BODY', _c5='DRIVE', _c6='CYLINDERS', _c7='HP', _c8='RPM', _c9='MPG-CITY', _c10='MPG-HWY', _c11='PRICE'),\n",
       " Row(_c0='subaru', _c1='gas', _c2='std', _c3='two', _c4='hatchback', _c5='fwd', _c6='four', _c7='69', _c8='4900', _c9='31', _c10='36', _c11='5118'),\n",
       " Row(_c0='chevrolet', _c1='gas', _c2='std', _c3='two', _c4='hatchback', _c5='fwd', _c6='three', _c7='48', _c8='5100', _c9='47', _c10='53', _c11='5151'),\n",
       " Row(_c0='mazda', _c1='gas', _c2='std', _c3='two', _c4='hatchback', _c5='fwd', _c6='four', _c7='68', _c8='5000', _c9='30', _c10='31', _c11='5195'),\n",
       " Row(_c0='toyota', _c1='gas', _c2='std', _c3='two', _c4='hatchback', _c5='fwd', _c6='four', _c7='62', _c8='4800', _c9='35', _c10='39', _c11='5348')]"
      ]
     },
     "execution_count": 12,
     "metadata": {},
     "output_type": "execute_result"
    }
   ],
   "source": [
    "autoData.take(5)"
   ]
  },
  {
   "cell_type": "code",
   "execution_count": 13,
   "metadata": {},
   "outputs": [
    {
     "name": "stdout",
     "output_type": "stream",
     "text": [
      "Row(_c0='MAKE', _c1='FUELTYPE', _c2='ASPIRE', _c3='DOORS', _c4='BODY', _c5='DRIVE', _c6='CYLINDERS', _c7='HP', _c8='RPM', _c9='MPG-CITY', _c10='MPG-HWY', _c11='PRICE')\n",
      "Row(_c0='subaru', _c1='gas', _c2='std', _c3='two', _c4='hatchback', _c5='fwd', _c6='four', _c7='69', _c8='4900', _c9='31', _c10='36', _c11='5118')\n",
      "Row(_c0='chevrolet', _c1='gas', _c2='std', _c3='two', _c4='hatchback', _c5='fwd', _c6='three', _c7='48', _c8='5100', _c9='47', _c10='53', _c11='5151')\n",
      "Row(_c0='mazda', _c1='gas', _c2='std', _c3='two', _c4='hatchback', _c5='fwd', _c6='four', _c7='68', _c8='5000', _c9='30', _c10='31', _c11='5195')\n",
      "Row(_c0='toyota', _c1='gas', _c2='std', _c3='two', _c4='hatchback', _c5='fwd', _c6='four', _c7='62', _c8='4800', _c9='35', _c10='39', _c11='5348')\n",
      "Row(_c0='mitsubishi', _c1='gas', _c2='std', _c3='two', _c4='hatchback', _c5='fwd', _c6='four', _c7='68', _c8='5500', _c9='37', _c10='41', _c11='5389')\n",
      "Row(_c0='honda', _c1='gas', _c2='std', _c3='two', _c4='hatchback', _c5='fwd', _c6='four', _c7='60', _c8='5500', _c9='38', _c10='42', _c11='5399')\n",
      "Row(_c0='nissan', _c1='gas', _c2='std', _c3='two', _c4='sedan', _c5='fwd', _c6='four', _c7='69', _c8='5200', _c9='31', _c10='37', _c11='5499')\n",
      "Row(_c0='dodge', _c1='gas', _c2='std', _c3='two', _c4='hatchback', _c5='fwd', _c6='four', _c7='68', _c8='5500', _c9='37', _c10='41', _c11='5572')\n",
      "Row(_c0='plymouth', _c1='gas', _c2='std', _c3='two', _c4='hatchback', _c5='fwd', _c6='four', _c7='68', _c8='5500', _c9='37', _c10='41', _c11='5572')\n",
      "Row(_c0='mazda', _c1='gas', _c2='std', _c3='two', _c4='hatchback', _c5='fwd', _c6='four', _c7='68', _c8='5000', _c9='31', _c10='38', _c11='6095')\n",
      "Row(_c0='mitsubishi', _c1='gas', _c2='std', _c3='two', _c4='hatchback', _c5='fwd', _c6='four', _c7='68', _c8='5500', _c9='31', _c10='38', _c11='6189')\n",
      "Row(_c0='dodge', _c1='gas', _c2='std', _c3='four', _c4='hatchback', _c5='fwd', _c6='four', _c7='68', _c8='5500', _c9='31', _c10='38', _c11='6229')\n",
      "Row(_c0='plymouth', _c1='gas', _c2='std', _c3='four', _c4='hatchback', _c5='fwd', _c6='four', _c7='68', _c8='5500', _c9='31', _c10='38', _c11='6229')\n",
      "Row(_c0='chevrolet', _c1='gas', _c2='std', _c3='two', _c4='hatchback', _c5='fwd', _c6='four', _c7='70', _c8='5400', _c9='38', _c10='43', _c11='6295')\n",
      "Row(_c0='toyota', _c1='gas', _c2='std', _c3='two', _c4='hatchback', _c5='fwd', _c6='four', _c7='62', _c8='4800', _c9='31', _c10='38', _c11='6338')\n",
      "Row(_c0='dodge', _c1='gas', _c2='std', _c3='two', _c4='hatchback', _c5='fwd', _c6='four', _c7='68', _c8='5500', _c9='31', _c10='38', _c11='6377')\n",
      "Row(_c0='honda', _c1='gas', _c2='std', _c3='two', _c4='hatchback', _c5='fwd', _c6='four', _c7='58', _c8='4800', _c9='49', _c10='54', _c11='6479')\n",
      "Row(_c0='toyota', _c1='gas', _c2='std', _c3='four', _c4='hatchback', _c5='fwd', _c6='four', _c7='62', _c8='4800', _c9='31', _c10='38', _c11='6488')\n",
      "Row(_c0='honda', _c1='gas', _c2='std', _c3='two', _c4='hatchback', _c5='fwd', _c6='four', _c7='76', _c8='6000', _c9='30', _c10='34', _c11='6529')\n",
      "Row(_c0='chevrolet', _c1='gas', _c2='std', _c3='four', _c4='sedan', _c5='fwd', _c6='four', _c7='70', _c8='5400', _c9='38', _c10='43', _c11='6575')\n",
      "Row(_c0='nissan', _c1='gas', _c2='std', _c3='two', _c4='sedan', _c5='fwd', _c6='four', _c7='69', _c8='5200', _c9='31', _c10='37', _c11='6649')\n",
      "Row(_c0='mitsubishi', _c1='gas', _c2='std', _c3='two', _c4='hatchback', _c5='fwd', _c6='four', _c7='68', _c8='5500', _c9='31', _c10='38', _c11='6669')\n",
      "Row(_c0='dodge', _c1='gas', _c2='std', _c3='four', _c4='sedan', _c5='fwd', _c6='four', _c7='68', _c8='5500', _c9='31', _c10='38', _c11='6692')\n",
      "Row(_c0='plymouth', _c1='gas', _c2='std', _c3='four', _c4='sedan', _c5='fwd', _c6='four', _c7='68', _c8='5500', _c9='31', _c10='38', _c11='6692')\n",
      "Row(_c0='mazda', _c1='gas', _c2='std', _c3='four', _c4='sedan', _c5='fwd', _c6='four', _c7='68', _c8='5000', _c9='31', _c10='38', _c11='6695')\n",
      "Row(_c0='isuzu', _c1='gas', _c2='std', _c3='four', _c4='sedan', _c5='rwd', _c6='four', _c7='78', _c8='4800', _c9='24', _c10='29', _c11='6785')\n",
      "Row(_c0='mazda', _c1='gas', _c2='std', _c3='two', _c4='hatchback', _c5='fwd', _c6='four', _c7='68', _c8='5000', _c9='31', _c10='38', _c11='6795')\n",
      "Row(_c0='nissan', _c1='gas', _c2='std', _c3='four', _c4='sedan', _c5='fwd', _c6='four', _c7='69', _c8='5200', _c9='31', _c10='37', _c11='6849')\n",
      "Row(_c0='honda', _c1='gas', _c2='std', _c3='two', _c4='hatchback', _c5='fwd', _c6='four', _c7='76', _c8='6000', _c9='31', _c10='38', _c11='6855')\n",
      "Row(_c0='toyota', _c1='gas', _c2='std', _c3='four', _c4='wagon', _c5='fwd', _c6='four', _c7='62', _c8='4800', _c9='31', _c10='37', _c11='6918')\n",
      "Row(_c0='toyota', _c1='gas', _c2='std', _c3='four', _c4='sedan', _c5='fwd', _c6='four', _c7='70', _c8='4800', _c9='30', _c10='37', _c11='6938')\n",
      "Row(_c0='mitsubishi', _c1='gas', _c2='std', _c3='four', _c4='sedan', _c5='fwd', _c6='four', _c7='88', _c8='5000', _c9='25', _c10='32', _c11='6989')\n",
      "Row(_c0='subaru', _c1='gas', _c2='std', _c3='two', _c4='hatchback', _c5='fwd', _c6='four', _c7='73', _c8='4400', _c9='26', _c10='31', _c11='7053')\n",
      "Row(_c0='nissan', _c1='diesel', _c2='std', _c3='two', _c4='sedan', _c5='fwd', _c6='four', _c7='55', _c8='4800', _c9='45', _c10='50', _c11='7099')\n",
      "Row(_c0='subaru', _c1='gas', _c2='std', _c3='four', _c4='sedan', _c5='fwd', _c6='four', _c7='82', _c8='4800', _c9='32', _c10='37', _c11='7126')\n",
      "Row(_c0='honda', _c1='gas', _c2='std', _c3='two', _c4='hatchback', _c5='fwd', _c6='four', _c7='76', _c8='6000', _c9='30', _c10='34', _c11='7129')\n",
      "Row(_c0='toyota', _c1='gas', _c2='std', _c3='four', _c4='hatchback', _c5='fwd', _c6='four', _c7='70', _c8='4800', _c9='30', _c10='37', _c11='7198')\n",
      "Row(_c0='honda', _c1='gas', _c2='std', _c3='four', _c4='sedan', _c5='fwd', _c6='four', _c7='76', _c8='6000', _c9='30', _c10='34', _c11='7295')\n",
      "Row(_c0='honda', _c1='gas', _c2='std', _c3='four', _c4='wagon', _c5='fwd', _c6='four', _c7='76', _c8='6000', _c9='30', _c10='34', _c11='7295')\n",
      "Row(_c0='nissan', _c1='gas', _c2='std', _c3='two', _c4='sedan', _c5='fwd', _c6='four', _c7='69', _c8='5200', _c9='31', _c10='37', _c11='7299')\n",
      "Row(_c0='nissan', _c1='gas', _c2='std', _c3='four', _c4='wagon', _c5='fwd', _c6='four', _c7='69', _c8='5200', _c9='31', _c10='37', _c11='7349')\n",
      "Row(_c0='mazda', _c1='gas', _c2='std', _c3='four', _c4='sedan', _c5='fwd', _c6='four', _c7='68', _c8='5000', _c9='31', _c10='38', _c11='7395')\n",
      "Row(_c0='subaru', _c1='gas', _c2='std', _c3='four', _c4='wagon', _c5='fwd', _c6='four', _c7='82', _c8='4800', _c9='28', _c10='32', _c11='7463')\n",
      "Row(_c0='nissan', _c1='gas', _c2='std', _c3='four', _c4='sedan', _c5='fwd', _c6='four', _c7='69', _c8='5200', _c9='31', _c10='37', _c11='7499')\n",
      "Row(_c0='subaru', _c1='gas', _c2='std', _c3='two', _c4='hatchback', _c5='4wd', _c6='four', _c7='73', _c8='4400', _c9='26', _c10='31', _c11='7603')\n",
      "Row(_c0='dodge', _c1='gas', _c2='std', _c3='four', _c4='sedan', _c5='fwd', _c6='four', _c7='68', _c8='5500', _c9='31', _c10='38', _c11='7609')\n",
      "Row(_c0='plymouth', _c1='gas', _c2='std', _c3='four', _c4='sedan', _c5='fwd', _c6='four', _c7='68', _c8='5500', _c9='31', _c10='38', _c11='7609')\n",
      "Row(_c0='mitsubishi', _c1='gas', _c2='turbo', _c3='two', _c4='hatchback', _c5='fwd', _c6='four', _c7='102', _c8='5500', _c9='24', _c10='30', _c11='7689')\n",
      "Row(_c0='toyota', _c1='gas', _c2='std', _c3='four', _c4='sedan', _c5='fwd', _c6='four', _c7='70', _c8='4800', _c9='38', _c10='47', _c11='7738')\n",
      "Row(_c0='subaru', _c1='gas', _c2='std', _c3='four', _c4='sedan', _c5='fwd', _c6='four', _c7='82', _c8='4400', _c9='28', _c10='33', _c11='7775')\n",
      "Row(_c0='volkswagen', _c1='diesel', _c2='std', _c3='two', _c4='sedan', _c5='fwd', _c6='four', _c7='52', _c8='4800', _c9='37', _c10='46', _c11='7775')\n",
      "Row(_c0='toyota', _c1='diesel', _c2='std', _c3='four', _c4='hatchback', _c5='fwd', _c6='four', _c7='56', _c8='4500', _c9='38', _c10='47', _c11='7788')\n",
      "Row(_c0='nissan', _c1='gas', _c2='std', _c3='two', _c4='hatchback', _c5='fwd', _c6='four', _c7='69', _c8='5200', _c9='31', _c10='37', _c11='7799')\n",
      "Row(_c0='honda', _c1='gas', _c2='std', _c3='two', _c4='hatchback', _c5='fwd', _c6='four', _c7='86', _c8='5800', _c9='27', _c10='33', _c11='7895')\n",
      "Row(_c0='toyota', _c1='gas', _c2='std', _c3='four', _c4='wagon', _c5='4wd', _c6='four', _c7='62', _c8='4800', _c9='27', _c10='32', _c11='7898')\n",
      "Row(_c0='toyota', _c1='diesel', _c2='std', _c3='four', _c4='sedan', _c5='fwd', _c6='four', _c7='56', _c8='4500', _c9='34', _c10='36', _c11='7898')\n",
      "Row(_c0='dodge', _c1='gas', _c2='turbo', _c3='two', _c4='hatchback', _c5='fwd', _c6='four', _c7='102', _c8='5500', _c9='24', _c10='30', _c11='7957')\n",
      "Row(_c0='plymouth', _c1='gas', _c2='turbo', _c3='two', _c4='hatchback', _c5='fwd', _c6='four', _c7='102', _c8='5500', _c9='24', _c10='30', _c11='7957')\n",
      "Row(_c0='volkswagen', _c1='gas', _c2='std', _c3='two', _c4='sedan', _c5='fwd', _c6='four', _c7='85', _c8='5250', _c9='27', _c10='34', _c11='7975')\n",
      "Row(_c0='volkswagen', _c1='diesel', _c2='std', _c3='four', _c4='sedan', _c5='fwd', _c6='four', _c7='52', _c8='4800', _c9='37', _c10='46', _c11='7995')\n",
      "Row(_c0='nissan', _c1='gas', _c2='std', _c3='four', _c4='wagon', _c5='fwd', _c6='four', _c7='69', _c8='5200', _c9='31', _c10='37', _c11='7999')\n",
      "Row(_c0='subaru', _c1='gas', _c2='std', _c3='four', _c4='wagon', _c5='4wd', _c6='four', _c7='82', _c8='4800', _c9='23', _c10='29', _c11='8013')\n",
      "Row(_c0='toyota', _c1='gas', _c2='std', _c3='two', _c4='sedan', _c5='rwd', _c6='four', _c7='70', _c8='4800', _c9='29', _c10='34', _c11='8058')\n",
      "Row(_c0='mitsubishi', _c1='gas', _c2='std', _c3='four', _c4='sedan', _c5='fwd', _c6='four', _c7='88', _c8='5000', _c9='25', _c10='32', _c11='8189')\n",
      "Row(_c0='volkswagen', _c1='gas', _c2='std', _c3='four', _c4='sedan', _c5='fwd', _c6='four', _c7='85', _c8='5250', _c9='27', _c10='34', _c11='8195')\n",
      "Row(_c0='toyota', _c1='gas', _c2='std', _c3='two', _c4='hatchback', _c5='rwd', _c6='four', _c7='70', _c8='4800', _c9='29', _c10='34', _c11='8238')\n",
      "Row(_c0='nissan', _c1='gas', _c2='std', _c3='two', _c4='hardtop', _c5='fwd', _c6='four', _c7='69', _c8='5200', _c9='31', _c10='37', _c11='8249')\n",
      "Row(_c0='toyota', _c1='gas', _c2='std', _c3='four', _c4='hatchback', _c5='fwd', _c6='four', _c7='70', _c8='4800', _c9='28', _c10='34', _c11='8358')\n",
      "Row(_c0='toyota', _c1='gas', _c2='std', _c3='two', _c4='hardtop', _c5='rwd', _c6='four', _c7='116', _c8='4800', _c9='24', _c10='30', _c11='8449')\n",
      "Row(_c0='mazda', _c1='gas', _c2='std', _c3='four', _c4='sedan', _c5='fwd', _c6='four', _c7='84', _c8='4800', _c9='26', _c10='32', _c11='8495')\n",
      "Row(_c0='volkswagen', _c1='gas', _c2='std', _c3='four', _c4='sedan', _c5='fwd', _c6='four', _c7='85', _c8='5250', _c9='27', _c10='34', _c11='8495')\n",
      "Row(_c0='mitsubishi', _c1='gas', _c2='std', _c3='two', _c4='hatchback', _c5='fwd', _c6='four', _c7='88', _c8='5000', _c9='25', _c10='32', _c11='8499')\n",
      "Row(_c0='toyota', _c1='gas', _c2='std', _c3='four', _c4='wagon', _c5='4wd', _c6='four', _c7='62', _c8='4800', _c9='27', _c10='32', _c11='8778')\n",
      "Row(_c0='honda', _c1='gas', _c2='std', _c3='four', _c4='sedan', _c5='fwd', _c6='four', _c7='86', _c8='5800', _c9='27', _c10='33', _c11='8845')\n",
      "Row(_c0='mazda', _c1='gas', _c2='std', _c3='two', _c4='hatchback', _c5='fwd', _c6='four', _c7='84', _c8='4800', _c9='26', _c10='32', _c11='8845')\n",
      "Row(_c0='dodge', _c1='gas', _c2='std', _c3='four', _c4='wagon', _c5='fwd', _c6='four', _c7='88', _c8='5000', _c9='24', _c10='30', _c11='8921')\n",
      "Row(_c0='plymouth', _c1='gas', _c2='std', _c3='four', _c4='wagon', _c5='fwd', _c6='four', _c7='88', _c8='5000', _c9='24', _c10='30', _c11='8921')\n",
      "Row(_c0='toyota', _c1='gas', _c2='std', _c3='four', _c4='sedan', _c5='fwd', _c6='four', _c7='92', _c8='4200', _c9='29', _c10='34', _c11='8948')\n",
      "Row(_c0='nissan', _c1='gas', _c2='std', _c3='four', _c4='hatchback', _c5='fwd', _c6='four', _c7='97', _c8='5200', _c9='27', _c10='34', _c11='8949')\n",
      "Row(_c0='honda', _c1='gas', _c2='std', _c3='two', _c4='hatchback', _c5='fwd', _c6='four', _c7='86', _c8='5800', _c9='27', _c10='33', _c11='9095')\n",
      "Row(_c0='subaru', _c1='gas', _c2='std', _c3='four', _c4='sedan', _c5='4wd', _c6='four', _c7='82', _c8='4800', _c9='24', _c10='25', _c11='9233')\n",
      "Row(_c0='toyota', _c1='gas', _c2='std', _c3='four', _c4='sedan', _c5='fwd', _c6='four', _c7='70', _c8='4800', _c9='28', _c10='34', _c11='9258')\n",
      "Row(_c0='mitsubishi', _c1='gas', _c2='turbo', _c3='four', _c4='sedan', _c5='fwd', _c6='four', _c7='116', _c8='5500', _c9='23', _c10='30', _c11='9279')\n",
      "Row(_c0='mitsubishi', _c1='gas', _c2='std', _c3='four', _c4='sedan', _c5='fwd', _c6='four', _c7='116', _c8='5500', _c9='23', _c10='30', _c11='9279')\n",
      "Row(_c0='toyota', _c1='gas', _c2='std', _c3='two', _c4='sedan', _c5='rwd', _c6='four', _c7='112', _c8='6600', _c9='26', _c10='29', _c11='9298')\n",
      "Row(_c0='volkswagen', _c1='diesel', _c2='turbo', _c3='four', _c4='sedan', _c5='fwd', _c6='four', _c7='68', _c8='4500', _c9='37', _c10='42', _c11='9495')\n",
      "Row(_c0='toyota', _c1='gas', _c2='std', _c3='two', _c4='hatchback', _c5='rwd', _c6='four', _c7='112', _c8='6600', _c9='26', _c10='29', _c11='9538')\n",
      "Row(_c0='nissan', _c1='gas', _c2='std', _c3='four', _c4='sedan', _c5='fwd', _c6='four', _c7='97', _c8='5200', _c9='27', _c10='34', _c11='9549')\n",
      "Row(_c0='toyota', _c1='gas', _c2='std', _c3='two', _c4='hardtop', _c5='rwd', _c6='four', _c7='116', _c8='4800', _c9='24', _c10='30', _c11='9639')\n",
      "Row(_c0='mitsubishi', _c1='gas', _c2='turbo', _c3='two', _c4='hatchback', _c5='fwd', _c6='four', _c7='116', _c8='5500', _c9='23', _c10='30', _c11='9959')\n",
      "Row(_c0='subaru', _c1='gas', _c2='std', _c3='four', _c4='sedan', _c5='fwd', _c6='four', _c7='94', _c8='5200', _c9='26', _c10='32', _c11='9960')\n",
      "Row(_c0='volkswagen', _c1='gas', _c2='std', _c3='two', _c4='hatchback', _c5='fwd', _c6='four', _c7='90', _c8='5500', _c9='24', _c10='29', _c11='9980')\n",
      "Row(_c0='toyota', _c1='gas', _c2='std', _c3='four', _c4='hatchback', _c5='fwd', _c6='four', _c7='92', _c8='4200', _c9='27', _c10='32', _c11='9988')\n",
      "Row(_c0='toyota', _c1='gas', _c2='std', _c3='two', _c4='hatchback', _c5='rwd', _c6='four', _c7='116', _c8='4800', _c9='24', _c10='30', _c11='9989')\n",
      "Row(_c0='volkswagen', _c1='gas', _c2='std', _c3='four', _c4='sedan', _c5='fwd', _c6='four', _c7='100', _c8='5500', _c9='26', _c10='32', _c11='9995')\n",
      "Row(_c0='subaru', _c1='gas', _c2='std', _c3='four', _c4='wagon', _c5='fwd', _c6='four', _c7='94', _c8='5200', _c9='25', _c10='31', _c11='10198')\n",
      "Row(_c0='mazda', _c1='gas', _c2='std', _c3='four', _c4='sedan', _c5='fwd', _c6='four', _c7='84', _c8='4800', _c9='26', _c10='32', _c11='10245')\n",
      "Row(_c0='honda', _c1='gas', _c2='std', _c3='four', _c4='sedan', _c5='fwd', _c6='four', _c7='86', _c8='5800', _c9='27', _c10='33', _c11='10295')\n",
      "Row(_c0='honda', _c1='gas', _c2='std', _c3='two', _c4='sedan', _c5='fwd', _c6='four', _c7='100', _c8='5500', _c9='25', _c10='31', _c11='10345')\n",
      "Row(_c0='mazda', _c1='gas', _c2='std', _c3='two', _c4='hatchback', _c5='fwd', _c6='four', _c7='84', _c8='4800', _c9='26', _c10='32', _c11='10595')\n",
      "Row(_c0='toyota', _c1='diesel', _c2='turbo', _c3='four', _c4='sedan', _c5='fwd', _c6='four', _c7='73', _c8='4500', _c9='30', _c10='33', _c11='10698')\n",
      "Row(_c0='toyota', _c1='gas', _c2='std', _c3='four', _c4='sedan', _c5='fwd', _c6='four', _c7='92', _c8='4200', _c9='27', _c10='32', _c11='10898')\n",
      "Row(_c0='mazda', _c1='gas', _c2='std', _c3='two', _c4='hatchback', _c5='rwd', _c6='two', _c7='101', _c8='6000', _c9='17', _c10='23', _c11='10945')\n",
      "Row(_c0='isuzu', _c1='gas', _c2='std', _c3='two', _c4='hatchback', _c5='rwd', _c6='four', _c7='90', _c8='5000', _c9='24', _c10='29', _c11='11048')\n",
      "Row(_c0='toyota', _c1='gas', _c2='std', _c3='two', _c4='hardtop', _c5='rwd', _c6='four', _c7='116', _c8='4800', _c9='24', _c10='30', _c11='11199')\n",
      "Row(_c0='mazda', _c1='gas', _c2='std', _c3='four', _c4='hatchback', _c5='fwd', _c6='four', _c7='84', _c8='4800', _c9='26', _c10='32', _c11='11245')\n",
      "Row(_c0='toyota', _c1='gas', _c2='std', _c3='four', _c4='hatchback', _c5='fwd', _c6='four', _c7='92', _c8='4200', _c9='27', _c10='32', _c11='11248')\n",
      "Row(_c0='subaru', _c1='gas', _c2='turbo', _c3='four', _c4='sedan', _c5='4wd', _c6='four', _c7='111', _c8='4800', _c9='24', _c10='29', _c11='11259')\n",
      "Row(_c0='toyota', _c1='gas', _c2='std', _c3='two', _c4='hatchback', _c5='rwd', _c6='four', _c7='116', _c8='4800', _c9='24', _c10='30', _c11='11549')\n",
      "Row(_c0='volkswagen', _c1='gas', _c2='std', _c3='two', _c4='convertible', _c5='fwd', _c6='four', _c7='90', _c8='5500', _c9='24', _c10='29', _c11='11595')\n",
      "Row(_c0='subaru', _c1='gas', _c2='turbo', _c3='four', _c4='wagon', _c5='4wd', _c6='four', _c7='111', _c8='4800', _c9='23', _c10='23', _c11='11694')\n",
      "Row(_c0='mazda', _c1='gas', _c2='std', _c3='two', _c4='hatchback', _c5='rwd', _c6='two', _c7='101', _c8='6000', _c9='17', _c10='23', _c11='11845')\n",
      "Row(_c0='saab', _c1='gas', _c2='std', _c3='two', _c4='hatchback', _c5='fwd', _c6='four', _c7='110', _c8='5250', _c9='21', _c10='28', _c11='11850')\n",
      "Row(_c0='peugot', _c1='gas', _c2='std', _c3='four', _c4='sedan', _c5='rwd', _c6='four', _c7='97', _c8='5000', _c9='19', _c10='24', _c11='11900')\n",
      "Row(_c0='saab', _c1='gas', _c2='std', _c3='four', _c4='sedan', _c5='fwd', _c6='four', _c7='110', _c8='5250', _c9='21', _c10='28', _c11='12170')\n",
      "Row(_c0='volkswagen', _c1='gas', _c2='std', _c3='four', _c4='wagon', _c5='fwd', _c6='four', _c7='88', _c8='5500', _c9='25', _c10='31', _c11='12290')\n",
      "Row(_c0='peugot', _c1='gas', _c2='std', _c3='four', _c4='wagon', _c5='rwd', _c6='four', _c7='97', _c8='5000', _c9='19', _c10='24', _c11='12440')\n",
      "Row(_c0='mitsubishi', _c1='gas', _c2='turbo', _c3='two', _c4='hatchback', _c5='fwd', _c6='four', _c7='145', _c8='5000', _c9='19', _c10='24', _c11='12629')\n",
      "Row(_c0='plymouth', _c1='gas', _c2='turbo', _c3='two', _c4='hatchback', _c5='rwd', _c6='four', _c7='145', _c8='5000', _c9='19', _c10='24', _c11='12764')\n",
      "Row(_c0='volvo', _c1='gas', _c2='std', _c3='four', _c4='sedan', _c5='rwd', _c6='four', _c7='114', _c8='5400', _c9='23', _c10='28', _c11='12940')\n",
      "Row(_c0='honda', _c1='gas', _c2='std', _c3='four', _c4='sedan', _c5='fwd', _c6='four', _c7='101', _c8='5800', _c9='24', _c10='28', _c11='12945')\n",
      "Row(_c0='dodge', _c1='gas', _c2='turbo', _c3='two', _c4='hatchback', _c5='fwd', _c6='four', _c7='145', _c8='5000', _c9='19', _c10='24', _c11='12964')\n",
      "Row(_c0='peugot', _c1='diesel', _c2='turbo', _c3='four', _c4='sedan', _c5='rwd', _c6='four', _c7='95', _c8='4150', _c9='28', _c10='33', _c11='13200')\n",
      "Row(_c0='volkswagen', _c1='gas', _c2='std', _c3='four', _c4='sedan', _c5='fwd', _c6='five', _c7='110', _c8='5500', _c9='19', _c10='24', _c11='13295')\n",
      "Row(_c0='volvo', _c1='gas', _c2='std', _c3='four', _c4='wagon', _c5='rwd', _c6='four', _c7='114', _c8='5400', _c9='23', _c10='28', _c11='13415')\n",
      "Row(_c0='alfa-romero', _c1='gas', _c2='std', _c3='two', _c4='convertible', _c5='rwd', _c6='four', _c7='111', _c8='5000', _c9='21', _c10='27', _c11='13495')\n",
      "Row(_c0='nissan', _c1='gas', _c2='std', _c3='four', _c4='sedan', _c5='fwd', _c6='six', _c7='152', _c8='5200', _c9='17', _c10='22', _c11='13499')\n",
      "Row(_c0='nissan', _c1='gas', _c2='std', _c3='four', _c4='sedan', _c5='fwd', _c6='six', _c7='152', _c8='5200', _c9='19', _c10='25', _c11='13499')\n",
      "Row(_c0='mazda', _c1='gas', _c2='std', _c3='two', _c4='hatchback', _c5='rwd', _c6='two', _c7='101', _c8='6000', _c9='17', _c10='23', _c11='13645')\n",
      "Row(_c0='volkswagen', _c1='diesel', _c2='turbo', _c3='four', _c4='sedan', _c5='fwd', _c6='four', _c7='68', _c8='4500', _c9='33', _c10='38', _c11='13845')\n",
      "Row(_c0='peugot', _c1='diesel', _c2='turbo', _c3='four', _c4='wagon', _c5='rwd', _c6='four', _c7='95', _c8='4150', _c9='25', _c10='25', _c11='13860')\n",
      "Row(_c0='audi', _c1='gas', _c2='std', _c3='four', _c4='sedan', _c5='fwd', _c6='four', _c7='102', _c8='5500', _c9='24', _c10='30', _c11='13950')\n",
      "Row(_c0='nissan', _c1='gas', _c2='std', _c3='four', _c4='wagon', _c5='fwd', _c6='six', _c7='152', _c8='5200', _c9='17', _c10='22', _c11='14399')\n",
      "Row(_c0='mitsubishi', _c1='gas', _c2='turbo', _c3='two', _c4='hatchback', _c5='fwd', _c6='four', _c7='145', _c8='5000', _c9='19', _c10='24', _c11='14489')\n",
      "Row(_c0='mitsubishi', _c1='gas', _c2='turbo', _c3='two', _c4='hatchback', _c5='fwd', _c6='four', _c7='145', _c8='5000', _c9='19', _c10='24', _c11='14869')\n",
      "Row(_c0='saab', _c1='gas', _c2='std', _c3='two', _c4='hatchback', _c5='fwd', _c6='four', _c7='110', _c8='5250', _c9='21', _c10='28', _c11='15040')\n",
      "Row(_c0='audi', _c1='gas', _c2='std', _c3='two', _c4='sedan', _c5='fwd', _c6='five', _c7='110', _c8='5500', _c9='19', _c10='25', _c11='15250')\n",
      "Row(_c0='saab', _c1='gas', _c2='std', _c3='four', _c4='sedan', _c5='fwd', _c6='four', _c7='110', _c8='5250', _c9='21', _c10='28', _c11='15510')\n",
      "Row(_c0='peugot', _c1='gas', _c2='std', _c3='four', _c4='sedan', _c5='rwd', _c6='four', _c7='95', _c8='5000', _c9='19', _c10='24', _c11='15580')\n",
      "Row(_c0='mazda', _c1='gas', _c2='std', _c3='two', _c4='hatchback', _c5='rwd', _c6='two', _c7='135', _c8='6000', _c9='16', _c10='23', _c11='15645')\n",
      "Row(_c0='toyota', _c1='gas', _c2='std', _c3='four', _c4='sedan', _c5='rwd', _c6='six', _c7='156', _c8='5200', _c9='20', _c10='24', _c11='15690')\n",
      "Row(_c0='toyota', _c1='gas', _c2='std', _c3='four', _c4='wagon', _c5='rwd', _c6='six', _c7='156', _c8='5200', _c9='19', _c10='24', _c11='15750')\n",
      "Row(_c0='volvo', _c1='gas', _c2='std', _c3='four', _c4='sedan', _c5='rwd', _c6='four', _c7='114', _c8='5400', _c9='24', _c10='28', _c11='15985')\n",
      "Row(_c0='toyota', _c1='gas', _c2='std', _c3='two', _c4='hatchback', _c5='rwd', _c6='six', _c7='161', _c8='5200', _c9='19', _c10='24', _c11='15998')\n",
      "Row(_c0='bmw', _c1='gas', _c2='std', _c3='two', _c4='sedan', _c5='rwd', _c6='four', _c7='101', _c8='5800', _c9='23', _c10='29', _c11='16430')\n",
      "Row(_c0='alfa-romero', _c1='gas', _c2='std', _c3='two', _c4='convertible', _c5='rwd', _c6='four', _c7='111', _c8='5000', _c9='21', _c10='27', _c11='16500')\n",
      "Row(_c0='alfa-romero', _c1='gas', _c2='std', _c3='two', _c4='hatchback', _c5='rwd', _c6='six', _c7='154', _c8='5000', _c9='19', _c10='26', _c11='16500')\n",
      "Row(_c0='mercury', _c1='gas', _c2='turbo', _c3='two', _c4='hatchback', _c5='rwd', _c6='four', _c7='175', _c8='5000', _c9='19', _c10='24', _c11='16503')\n",
      "Row(_c0='volvo', _c1='gas', _c2='std', _c3='four', _c4='wagon', _c5='rwd', _c6='four', _c7='114', _c8='5400', _c9='24', _c10='28', _c11='16515')\n",
      "Row(_c0='toyota', _c1='gas', _c2='std', _c3='two', _c4='hatchback', _c5='rwd', _c6='six', _c7='161', _c8='5200', _c9='20', _c10='24', _c11='16558')\n",
      "Row(_c0='peugot', _c1='gas', _c2='std', _c3='four', _c4='sedan', _c5='rwd', _c6='four', _c7='97', _c8='5000', _c9='19', _c10='24', _c11='16630')\n",
      "Row(_c0='peugot', _c1='gas', _c2='std', _c3='four', _c4='wagon', _c5='rwd', _c6='four', _c7='95', _c8='5000', _c9='19', _c10='24', _c11='16695')\n",
      "Row(_c0='volvo', _c1='gas', _c2='std', _c3='four', _c4='sedan', _c5='rwd', _c6='four', _c7='114', _c8='5400', _c9='23', _c10='28', _c11='16845')\n",
      "Row(_c0='peugot', _c1='diesel', _c2='turbo', _c3='four', _c4='sedan', _c5='rwd', _c6='four', _c7='95', _c8='4150', _c9='28', _c10='33', _c11='16900')\n",
      "Row(_c0='bmw', _c1='gas', _c2='std', _c3='four', _c4='sedan', _c5='rwd', _c6='four', _c7='101', _c8='5800', _c9='23', _c10='29', _c11='16925')\n",
      "Row(_c0='peugot', _c1='diesel', _c2='turbo', _c3='four', _c4='wagon', _c5='rwd', _c6='four', _c7='95', _c8='4150', _c9='25', _c10='25', _c11='17075')\n",
      "Row(_c0='nissan', _c1='gas', _c2='std', _c3='two', _c4='hatchback', _c5='rwd', _c6='six', _c7='160', _c8='5200', _c9='19', _c10='25', _c11='17199')\n",
      "Row(_c0='audi', _c1='gas', _c2='std', _c3='four', _c4='sedan', _c5='4wd', _c6='five', _c7='115', _c8='5500', _c9='18', _c10='22', _c11='17450')\n",
      "Row(_c0='toyota', _c1='gas', _c2='std', _c3='two', _c4='convertible', _c5='rwd', _c6='four', _c7='116', _c8='4800', _c9='24', _c10='30', _c11='17669')\n",
      "Row(_c0='audi', _c1='gas', _c2='std', _c3='four', _c4='sedan', _c5='fwd', _c6='five', _c7='110', _c8='5500', _c9='19', _c10='25', _c11='17710')\n",
      "Row(_c0='peugot', _c1='diesel', _c2='turbo', _c3='four', _c4='sedan', _c5='rwd', _c6='four', _c7='95', _c8='4150', _c9='28', _c10='33', _c11='17950')\n",
      "Row(_c0='peugot', _c1='gas', _c2='turbo', _c3='four', _c4='sedan', _c5='rwd', _c6='four', _c7='142', _c8='5600', _c9='18', _c10='24', _c11='18150')\n",
      "Row(_c0='saab', _c1='gas', _c2='turbo', _c3='two', _c4='hatchback', _c5='fwd', _c6='four', _c7='160', _c8='5500', _c9='19', _c10='26', _c11='18150')\n",
      "Row(_c0='mazda', _c1='gas', _c2='std', _c3='four', _c4='sedan', _c5='rwd', _c6='four', _c7='120', _c8='5000', _c9='19', _c10='27', _c11='18280')\n",
      "Row(_c0='mazda', _c1='diesel', _c2='std', _c3='four', _c4='sedan', _c5='rwd', _c6='four', _c7='72', _c8='4200', _c9='31', _c10='39', _c11='18344')\n",
      "Row(_c0='nissan', _c1='gas', _c2='std', _c3='two', _c4='hatchback', _c5='rwd', _c6='six', _c7='160', _c8='5200', _c9='19', _c10='25', _c11='18399')\n",
      "Row(_c0='volvo', _c1='gas', _c2='turbo', _c3='four', _c4='sedan', _c5='rwd', _c6='four', _c7='162', _c8='5100', _c9='17', _c10='22', _c11='18420')\n",
      "Row(_c0='saab', _c1='gas', _c2='turbo', _c3='four', _c4='sedan', _c5='fwd', _c6='four', _c7='160', _c8='5500', _c9='19', _c10='26', _c11='18620')\n",
      "Row(_c0='audi', _c1='gas', _c2='std', _c3='four', _c4='wagon', _c5='fwd', _c6='five', _c7='110', _c8='5500', _c9='19', _c10='25', _c11='18920')\n",
      "Row(_c0='volvo', _c1='gas', _c2='turbo', _c3='four', _c4='wagon', _c5='rwd', _c6='four', _c7='162', _c8='5100', _c9='17', _c10='22', _c11='18950')\n",
      "Row(_c0='volvo', _c1='gas', _c2='turbo', _c3='four', _c4='sedan', _c5='rwd', _c6='four', _c7='160', _c8='5300', _c9='19', _c10='25', _c11='19045')\n",
      "Row(_c0='nissan', _c1='gas', _c2='turbo', _c3='two', _c4='hatchback', _c5='rwd', _c6='six', _c7='200', _c8='5200', _c9='17', _c10='23', _c11='19699')\n",
      "Row(_c0='bmw', _c1='gas', _c2='std', _c3='two', _c4='sedan', _c5='rwd', _c6='six', _c7='121', _c8='4250', _c9='21', _c10='28', _c11='20970')\n",
      "Row(_c0='bmw', _c1='gas', _c2='std', _c3='four', _c4='sedan', _c5='rwd', _c6='six', _c7='121', _c8='4250', _c9='21', _c10='28', _c11='21105')\n",
      "Row(_c0='volvo', _c1='gas', _c2='std', _c3='four', _c4='sedan', _c5='rwd', _c6='six', _c7='134', _c8='5500', _c9='18', _c10='23', _c11='21485')\n",
      "Row(_c0='porsche', _c1='gas', _c2='std', _c3='two', _c4='hatchback', _c5='rwd', _c6='four', _c7='143', _c8='5500', _c9='19', _c10='27', _c11='22018')\n",
      "Row(_c0='volvo', _c1='diesel', _c2='turbo', _c3='four', _c4='sedan', _c5='rwd', _c6='six', _c7='106', _c8='4800', _c9='26', _c10='27', _c11='22470')\n",
      "Row(_c0='volvo', _c1='gas', _c2='turbo', _c3='four', _c4='sedan', _c5='rwd', _c6='four', _c7='114', _c8='5400', _c9='19', _c10='25', _c11='22625')\n",
      "Row(_c0='audi', _c1='gas', _c2='turbo', _c3='four', _c4='sedan', _c5='fwd', _c6='five', _c7='140', _c8='5500', _c9='17', _c10='20', _c11='23875')\n",
      "Row(_c0='bmw', _c1='gas', _c2='std', _c3='four', _c4='sedan', _c5='rwd', _c6='six', _c7='121', _c8='4250', _c9='20', _c10='25', _c11='24565')\n",
      "Row(_c0='mercedes-benz', _c1='diesel', _c2='turbo', _c3='four', _c4='sedan', _c5='rwd', _c6='five', _c7='123', _c8='4350', _c9='22', _c10='25', _c11='25552')\n",
      "Row(_c0='mercedes-benz', _c1='diesel', _c2='turbo', _c3='two', _c4='hardtop', _c5='rwd', _c6='five', _c7='123', _c8='4350', _c9='22', _c10='25', _c11='28176')\n",
      "Row(_c0='mercedes-benz', _c1='diesel', _c2='turbo', _c3='four', _c4='wagon', _c5='rwd', _c6='five', _c7='123', _c8='4350', _c9='22', _c10='25', _c11='28248')\n",
      "Row(_c0='bmw', _c1='gas', _c2='std', _c3='four', _c4='sedan', _c5='rwd', _c6='six', _c7='182', _c8='5400', _c9='16', _c10='22', _c11='30760')\n",
      "Row(_c0='mercedes-benz', _c1='diesel', _c2='turbo', _c3='four', _c4='sedan', _c5='rwd', _c6='five', _c7='123', _c8='4350', _c9='22', _c10='25', _c11='31600')\n",
      "Row(_c0='jaguar', _c1='gas', _c2='std', _c3='four', _c4='sedan', _c5='rwd', _c6='six', _c7='176', _c8='4750', _c9='15', _c10='19', _c11='32250')\n",
      "Row(_c0='porsche', _c1='gas', _c2='std', _c3='two', _c4='hardtop', _c5='rwd', _c6='six', _c7='207', _c8='5900', _c9='17', _c10='25', _c11='32528')\n",
      "Row(_c0='porsche', _c1='gas', _c2='std', _c3='two', _c4='hardtop', _c5='rwd', _c6='six', _c7='207', _c8='5900', _c9='17', _c10='25', _c11='34028')\n",
      "Row(_c0='mercedes-benz', _c1='gas', _c2='std', _c3='four', _c4='sedan', _c5='rwd', _c6='eight', _c7='155', _c8='4750', _c9='16', _c10='18', _c11='34184')\n",
      "Row(_c0='mercedes-benz', _c1='gas', _c2='std', _c3='two', _c4='convertible', _c5='rwd', _c6='eight', _c7='155', _c8='4750', _c9='16', _c10='18', _c11='35056')\n",
      "Row(_c0='jaguar', _c1='gas', _c2='std', _c3='four', _c4='sedan', _c5='rwd', _c6='six', _c7='176', _c8='4750', _c9='15', _c10='19', _c11='35550')\n",
      "Row(_c0='jaguar', _c1='gas', _c2='std', _c3='two', _c4='sedan', _c5='rwd', _c6='twelve', _c7='262', _c8='5000', _c9='13', _c10='17', _c11='36000')\n",
      "Row(_c0='bmw', _c1='gas', _c2='std', _c3='four', _c4='sedan', _c5='rwd', _c6='six', _c7='182', _c8='5400', _c9='15', _c10='20', _c11='36880')\n",
      "Row(_c0='porsche', _c1='gas', _c2='std', _c3='two', _c4='convertible', _c5='rwd', _c6='six', _c7='207', _c8='5900', _c9='17', _c10='25', _c11='37028')\n",
      "Row(_c0='mercedes-benz', _c1='gas', _c2='std', _c3='four', _c4='sedan', _c5='rwd', _c6='eight', _c7='184', _c8='4500', _c9='14', _c10='16', _c11='40960')\n",
      "Row(_c0='bmw', _c1='gas', _c2='std', _c3='two', _c4='sedan', _c5='rwd', _c6='six', _c7='182', _c8='5400', _c9='16', _c10='22', _c11='41315')\n",
      "Row(_c0='mercedes-benz', _c1='gas', _c2='std', _c3='two', _c4='hardtop', _c5='rwd', _c6='eight', _c7='184', _c8='4500', _c9='14', _c10='16', _c11='45400')\n"
     ]
    }
   ],
   "source": [
    "for data in autoData.collect():\n",
    "    print(data)"
   ]
  },
  {
   "cell_type": "code",
   "execution_count": 14,
   "metadata": {},
   "outputs": [
    {
     "ename": "AttributeError",
     "evalue": "'SparkSession' object has no attribute 'parallelize'",
     "output_type": "error",
     "traceback": [
      "\u001b[1;31m---------------------------------------------------------------------------\u001b[0m",
      "\u001b[1;31mAttributeError\u001b[0m                            Traceback (most recent call last)",
      "\u001b[1;32m<ipython-input-14-788969058040>\u001b[0m in \u001b[0;36m<module>\u001b[1;34m\u001b[0m\n\u001b[0;32m      1\u001b[0m \u001b[1;31m#load data from a collection\u001b[0m\u001b[1;33m\u001b[0m\u001b[1;33m\u001b[0m\u001b[1;33m\u001b[0m\u001b[0m\n\u001b[1;32m----> 2\u001b[1;33m \u001b[0mcollData\u001b[0m\u001b[1;33m=\u001b[0m\u001b[0msc\u001b[0m\u001b[1;33m.\u001b[0m\u001b[0mparallelize\u001b[0m\u001b[1;33m(\u001b[0m\u001b[1;33m[\u001b[0m\u001b[1;36m3\u001b[0m\u001b[1;33m,\u001b[0m\u001b[1;36m5\u001b[0m\u001b[1;33m,\u001b[0m\u001b[1;36m4\u001b[0m\u001b[1;33m,\u001b[0m\u001b[1;36m7\u001b[0m\u001b[1;33m,\u001b[0m\u001b[1;36m4\u001b[0m\u001b[1;33m]\u001b[0m\u001b[1;33m)\u001b[0m\u001b[1;33m\u001b[0m\u001b[1;33m\u001b[0m\u001b[0m\n\u001b[0m\u001b[0;32m      3\u001b[0m \u001b[0mcollData\u001b[0m\u001b[1;33m.\u001b[0m\u001b[0mcache\u001b[0m\u001b[1;33m(\u001b[0m\u001b[1;33m)\u001b[0m\u001b[1;33m\u001b[0m\u001b[1;33m\u001b[0m\u001b[0m\n\u001b[0;32m      4\u001b[0m \u001b[0mcollData\u001b[0m\u001b[1;33m.\u001b[0m\u001b[0mcount\u001b[0m\u001b[1;33m(\u001b[0m\u001b[1;33m)\u001b[0m\u001b[1;33m\u001b[0m\u001b[1;33m\u001b[0m\u001b[0m\n",
      "\u001b[1;31mAttributeError\u001b[0m: 'SparkSession' object has no attribute 'parallelize'"
     ]
    }
   ],
   "source": [
    "#load data from a collection\n",
    "collData=sc.parallelize([3,5,4,7,4])\n",
    "collData.cache()\n",
    "collData.count()"
   ]
  },
  {
   "cell_type": "code",
   "execution_count": 15,
   "metadata": {},
   "outputs": [],
   "source": [
    "## Transformation"
   ]
  },
  {
   "cell_type": "code",
   "execution_count": 13,
   "metadata": {},
   "outputs": [],
   "source": [
    "#map and create a new RDD\n",
    "\n",
    "tsvData=autoData.map(lambda x:x.replace(\",\",\"\\t\"))"
   ]
  },
  {
   "cell_type": "code",
   "execution_count": 19,
   "metadata": {},
   "outputs": [
    {
     "data": {
      "text/plain": [
       "['MAKE\\tFUELTYPE\\tASPIRE\\tDOORS\\tBODY\\tDRIVE\\tCYLINDERS\\tHP\\tRPM\\tMPG-CITY\\tMPG-HWY\\tPRICE',\n",
       " 'subaru\\tgas\\tstd\\ttwo\\thatchback\\tfwd\\tfour\\t69\\t4900\\t31\\t36\\t5118',\n",
       " 'chevrolet\\tgas\\tstd\\ttwo\\thatchback\\tfwd\\tthree\\t48\\t5100\\t47\\t53\\t5151',\n",
       " 'mazda\\tgas\\tstd\\ttwo\\thatchback\\tfwd\\tfour\\t68\\t5000\\t30\\t31\\t5195',\n",
       " 'toyota\\tgas\\tstd\\ttwo\\thatchback\\tfwd\\tfour\\t62\\t4800\\t35\\t39\\t5348']"
      ]
     },
     "execution_count": 19,
     "metadata": {},
     "output_type": "execute_result"
    }
   ],
   "source": [
    "tsvData.take(5)"
   ]
  },
  {
   "cell_type": "code",
   "execution_count": 14,
   "metadata": {},
   "outputs": [],
   "source": [
    "#filter and create a new RDD using filter\n",
    "\n",
    "toyotaData=autoData.filter(lambda x:\"toyota\" in x)"
   ]
  },
  {
   "cell_type": "code",
   "execution_count": 15,
   "metadata": {},
   "outputs": [
    {
     "data": {
      "text/plain": [
       "['toyota,gas,std,two,hatchback,fwd,four,62,4800,35,39,5348',\n",
       " 'toyota,gas,std,two,hatchback,fwd,four,62,4800,31,38,6338',\n",
       " 'toyota,gas,std,four,hatchback,fwd,four,62,4800,31,38,6488',\n",
       " 'toyota,gas,std,four,wagon,fwd,four,62,4800,31,37,6918',\n",
       " 'toyota,gas,std,four,sedan,fwd,four,70,4800,30,37,6938']"
      ]
     },
     "execution_count": 15,
     "metadata": {},
     "output_type": "execute_result"
    }
   ],
   "source": [
    "toyotaData.take(5)"
   ]
  },
  {
   "cell_type": "code",
   "execution_count": 16,
   "metadata": {},
   "outputs": [
    {
     "data": {
      "text/plain": [
       "32"
      ]
     },
     "execution_count": 16,
     "metadata": {},
     "output_type": "execute_result"
    }
   ],
   "source": [
    "toyotaData.count()"
   ]
  },
  {
   "cell_type": "code",
   "execution_count": 17,
   "metadata": {},
   "outputs": [
    {
     "data": {
      "text/plain": [
       "384"
      ]
     },
     "execution_count": 17,
     "metadata": {},
     "output_type": "execute_result"
    }
   ],
   "source": [
    "#flatMap\n",
    "#Take every element in RDD and create multiple elements out of it  \n",
    "words=toyotaData.flatMap(lambda line:line.split(\",\"))\n",
    "words.count()"
   ]
  },
  {
   "cell_type": "code",
   "execution_count": 18,
   "metadata": {},
   "outputs": [
    {
     "data": {
      "text/plain": [
       "384"
      ]
     },
     "execution_count": 18,
     "metadata": {},
     "output_type": "execute_result"
    }
   ],
   "source": [
    "words.count()"
   ]
  },
  {
   "cell_type": "code",
   "execution_count": 19,
   "metadata": {},
   "outputs": [
    {
     "data": {
      "text/plain": [
       "pyspark.rdd.PipelinedRDD"
      ]
     },
     "execution_count": 19,
     "metadata": {},
     "output_type": "execute_result"
    }
   ],
   "source": [
    "type(words)"
   ]
  },
  {
   "cell_type": "code",
   "execution_count": 23,
   "metadata": {
    "scrolled": true
   },
   "outputs": [
    {
     "name": "stdout",
     "output_type": "stream",
     "text": [
      "std\n",
      "two\n",
      "hatchback\n",
      "fwd\n",
      "four\n",
      "5348\n",
      "6338\n",
      "sedan\n",
      "70\n",
      "diesel\n",
      "56\n",
      "7788\n",
      "4wd\n",
      "34\n",
      "29\n",
      "8238\n",
      "hardtop\n",
      "116\n",
      "24\n",
      "4200\n",
      "8948\n",
      "9258\n",
      "112\n",
      "6600\n",
      "26\n",
      "9298\n",
      "9988\n",
      "73\n",
      "33\n",
      "11248\n",
      "20\n",
      "15690\n",
      "19\n",
      "15750\n",
      "161\n",
      "15998\n",
      "16558\n",
      "convertible\n",
      "toyota\n",
      "gas\n",
      "62\n",
      "4800\n",
      "35\n",
      "39\n",
      "31\n",
      "38\n",
      "6488\n",
      "wagon\n",
      "37\n",
      "6918\n",
      "30\n",
      "6938\n",
      "7198\n",
      "47\n",
      "7738\n",
      "4500\n",
      "27\n",
      "32\n",
      "7898\n",
      "36\n",
      "rwd\n",
      "8058\n",
      "28\n",
      "8358\n",
      "8449\n",
      "8778\n",
      "92\n",
      "9538\n",
      "9639\n",
      "9989\n",
      "turbo\n",
      "10698\n",
      "10898\n",
      "11199\n",
      "11549\n",
      "six\n",
      "156\n",
      "5200\n",
      "17669\n"
     ]
    }
   ],
   "source": [
    "#get distinct Data\n",
    "for distData in words.distinct().collect():\n",
    "    print (distData)"
   ]
  },
  {
   "cell_type": "code",
   "execution_count": 24,
   "metadata": {},
   "outputs": [
    {
     "name": "stdout",
     "output_type": "stream",
     "text": [
      "Hello\n",
      "war\n",
      "peace\n",
      "world\n",
      "war\n",
      "peace\n",
      "universe\n"
     ]
    }
   ],
   "source": [
    "#set operations\n",
    "\n",
    "words1=sc.parallelize([\"Hello\",\"war\",\"peace\",\"world\"])\n",
    "words2=sc.parallelize([\"war\",\"peace\",\"universe\"])\n",
    "\n",
    "for unions in words1.union(words2).collect():\n",
    "    print (unions)"
   ]
  },
  {
   "cell_type": "code",
   "execution_count": 25,
   "metadata": {},
   "outputs": [
    {
     "name": "stdout",
     "output_type": "stream",
     "text": [
      "peace\n",
      "war\n"
     ]
    }
   ],
   "source": [
    "for intersect in words1.intersection(words2).collect():\n",
    "    print(intersect)"
   ]
  },
  {
   "cell_type": "markdown",
   "metadata": {},
   "source": [
    "## Actions"
   ]
  },
  {
   "cell_type": "code",
   "execution_count": 26,
   "metadata": {},
   "outputs": [
    {
     "data": {
      "text/plain": [
       "int"
      ]
     },
     "execution_count": 26,
     "metadata": {},
     "output_type": "execute_result"
    }
   ],
   "source": [
    "#reduce\n",
    "m=collData.reduce(lambda x,y:x+y)\n",
    "\n",
    "type(m)"
   ]
  },
  {
   "cell_type": "code",
   "execution_count": 27,
   "metadata": {},
   "outputs": [
    {
     "data": {
      "text/plain": [
       "'bmw,gas,std,two,sedan,rwd,six,182,5400,16,22,41315'"
      ]
     },
     "execution_count": 27,
     "metadata": {},
     "output_type": "execute_result"
    }
   ],
   "source": [
    "#find  shortest line\n",
    "autoData.reduce(lambda x,y:x if len(x) < len(y) else y)"
   ]
  },
  {
   "cell_type": "code",
   "execution_count": 28,
   "metadata": {},
   "outputs": [
    {
     "data": {
      "text/plain": [
       "23"
      ]
     },
     "execution_count": 28,
     "metadata": {},
     "output_type": "execute_result"
    }
   ],
   "source": [
    "#aggregation\n",
    "\n",
    "seqOp=(lambda x,y:x+y)\n",
    "combOp=(lambda x,y:x+y)\n",
    "collData.aggregate((0),seqOp,combOp)"
   ]
  },
  {
   "cell_type": "code",
   "execution_count": 29,
   "metadata": {},
   "outputs": [
    {
     "data": {
      "text/plain": [
       "[3, 5, 4, 7, 4]"
      ]
     },
     "execution_count": 29,
     "metadata": {},
     "output_type": "execute_result"
    }
   ],
   "source": [
    "collData.collect()"
   ]
  },
  {
   "cell_type": "code",
   "execution_count": 30,
   "metadata": {},
   "outputs": [
    {
     "data": {
      "text/plain": [
       "(23, 1680)"
      ]
     },
     "execution_count": 30,
     "metadata": {},
     "output_type": "execute_result"
    }
   ],
   "source": [
    "\n",
    "seqOp=(lambda x,y :(x[0]+y,x[1]*y))\n",
    "combOp=(lambda x,y :(x[0]+y[0],x[1]*y[1]))\n",
    "collData.aggregate((0,1),seqOp,combOp)"
   ]
  },
  {
   "cell_type": "markdown",
   "metadata": {},
   "source": [
    "### function in spark"
   ]
  },
  {
   "cell_type": "code",
   "execution_count": 31,
   "metadata": {},
   "outputs": [],
   "source": [
    "#Clease and transform to a new RDD\n",
    "def cleanseRDD(autoStr):\n",
    "    if isinstance(autoStr,int):\n",
    "        return autoStr\n",
    "    to_list=autoStr.split(\",\")\n",
    "    #convert doors to a no.\n",
    "    if to_list[3]==\"two\":\n",
    "        to_list[3]=\"2\"\n",
    "    else:\n",
    "        to_list[3]=\"4\"\n",
    "    #convert drive to uppercase\n",
    "    to_list[5]=to_list[5].upper()\n",
    "    \n",
    "    return \",\".join(to_list)\n",
    "        "
   ]
  },
  {
   "cell_type": "code",
   "execution_count": 32,
   "metadata": {},
   "outputs": [],
   "source": [
    "cleanedData1=autoData.map(cleanseRDD)"
   ]
  },
  {
   "cell_type": "code",
   "execution_count": 33,
   "metadata": {},
   "outputs": [
    {
     "data": {
      "text/plain": [
       "['MAKE,FUELTYPE,ASPIRE,4,BODY,DRIVE,CYLINDERS,HP,RPM,MPG-CITY,MPG-HWY,PRICE',\n",
       " 'subaru,gas,std,2,hatchback,FWD,four,69,4900,31,36,5118',\n",
       " 'chevrolet,gas,std,2,hatchback,FWD,three,48,5100,47,53,5151',\n",
       " 'mazda,gas,std,2,hatchback,FWD,four,68,5000,30,31,5195',\n",
       " 'toyota,gas,std,2,hatchback,FWD,four,62,4800,35,39,5348']"
      ]
     },
     "execution_count": 33,
     "metadata": {},
     "output_type": "execute_result"
    }
   ],
   "source": [
    "cleanedData1.take(5)"
   ]
  },
  {
   "cell_type": "code",
   "execution_count": 34,
   "metadata": {},
   "outputs": [],
   "source": [
    "#sue a function to perform reduce \n",
    "#a reduce function that calculates average miles per galan acresosall acrs\n",
    "\n",
    "def getMPG(autoStr):\n",
    "    if isinstance(autoStr,int):\n",
    "        return autoStr\n",
    "    to_list=autoStr.split(\",\")\n",
    "    #convert doors to a no.\n",
    "    if to_list[9].isdigit():\n",
    "        return int(to_list[9])\n",
    "    else:\n",
    "        return 0"
   ]
  },
  {
   "cell_type": "code",
   "execution_count": 35,
   "metadata": {},
   "outputs": [
    {
     "data": {
      "text/plain": [
       "25.15228426395939"
      ]
     },
     "execution_count": 35,
     "metadata": {},
     "output_type": "execute_result"
    }
   ],
   "source": [
    "#find average MPG city for all cars\n",
    "\n",
    "autoData.reduce(lambda x,y:getMPG(x)+getMPG(y))/(autoData.count()-1)\n"
   ]
  },
  {
   "cell_type": "code",
   "execution_count": 36,
   "metadata": {},
   "outputs": [],
   "source": [
    "#............................................................................\n",
    "##   Working with Key/Value RDDs\n",
    "#............................................................................"
   ]
  },
  {
   "cell_type": "code",
   "execution_count": 37,
   "metadata": {},
   "outputs": [
    {
     "data": {
      "text/plain": [
       "['MAKE,FUELTYPE,ASPIRE,DOORS,BODY,DRIVE,CYLINDERS,HP,RPM,MPG-CITY,MPG-HWY,PRICE',\n",
       " 'subaru,gas,std,two,hatchback,fwd,four,69,4900,31,36,5118']"
      ]
     },
     "execution_count": 37,
     "metadata": {},
     "output_type": "execute_result"
    }
   ],
   "source": [
    "autoData.take(2)"
   ]
  },
  {
   "cell_type": "code",
   "execution_count": 38,
   "metadata": {},
   "outputs": [
    {
     "data": {
      "text/plain": [
       "[('MAKE', 'HP'),\n",
       " ('subaru', '69'),\n",
       " ('chevrolet', '48'),\n",
       " ('mazda', '68'),\n",
       " ('toyota', '62')]"
      ]
     },
     "execution_count": 38,
     "metadata": {},
     "output_type": "execute_result"
    }
   ],
   "source": [
    "#Create a KV RDD of auto brand and Horsepower\n",
    "\n",
    "cylData=autoData.map(lambda x: (x.split(\",\")[0],x.split(\",\")[7]))\n",
    "cylData.take(5)"
   ]
  },
  {
   "cell_type": "code",
   "execution_count": 39,
   "metadata": {},
   "outputs": [
    {
     "data": {
      "text/plain": [
       "['MAKE', 'subaru', 'chevrolet', 'mazda', 'toyota']"
      ]
     },
     "execution_count": 39,
     "metadata": {},
     "output_type": "execute_result"
    }
   ],
   "source": [
    "#to collect the key values\n",
    "cylData.keys().take(5) # or we cn sue collect()"
   ]
  },
  {
   "cell_type": "code",
   "execution_count": 42,
   "metadata": {},
   "outputs": [
    {
     "data": {
      "text/plain": [
       "[('MAKE', 'HP', 'RPM'),\n",
       " ('subaru', '69', '4900'),\n",
       " ('chevrolet', '48', '5100'),\n",
       " ('mazda', '68', '5000'),\n",
       " ('toyota', '62', '4800')]"
      ]
     },
     "execution_count": 42,
     "metadata": {},
     "output_type": "execute_result"
    }
   ],
   "source": [
    "#Create a KV RDD of auto brand and Horsepower\n",
    "\n",
    "keyData=autoData.map(lambda x: (x.split(\",\")[0],x.split(\",\")[7],x.split(\",\")[8]))\n",
    "keyData.take(5)"
   ]
  },
  {
   "cell_type": "code",
   "execution_count": 45,
   "metadata": {},
   "outputs": [
    {
     "data": {
      "text/plain": [
       "['MAKE', 'subaru', 'chevrolet', 'mazda', 'toyota']"
      ]
     },
     "execution_count": 45,
     "metadata": {},
     "output_type": "execute_result"
    }
   ],
   "source": [
    "keyData.keys().take(5)"
   ]
  },
  {
   "cell_type": "code",
   "execution_count": 75,
   "metadata": {},
   "outputs": [
    {
     "data": {
      "text/plain": [
       "[('subaru', '69'),\n",
       " ('chevrolet', '48'),\n",
       " ('mazda', '68'),\n",
       " ('toyota', '62'),\n",
       " ('mitsubishi', '68')]"
      ]
     },
     "execution_count": 75,
     "metadata": {},
     "output_type": "execute_result"
    }
   ],
   "source": [
    "#Remove heder row\n",
    "\n",
    "header=cylData.first()\n",
    "cylHpData=cylData.filter(lambda line: line!=header)\n",
    "cylHpData.take(5)"
   ]
  },
  {
   "cell_type": "code",
   "execution_count": 41,
   "metadata": {},
   "outputs": [
    {
     "data": {
      "text/plain": [
       "pyspark.rdd.PipelinedRDD"
      ]
     },
     "execution_count": 41,
     "metadata": {},
     "output_type": "execute_result"
    }
   ],
   "source": [
    "type(cylData)"
   ]
  },
  {
   "cell_type": "code",
   "execution_count": 77,
   "metadata": {},
   "outputs": [
    {
     "data": {
      "text/plain": [
       "[('subaru', ('69', 1)),\n",
       " ('chevrolet', ('48', 1)),\n",
       " ('mazda', ('68', 1)),\n",
       " ('toyota', ('62', 1)),\n",
       " ('mitsubishi', ('68', 1))]"
      ]
     },
     "execution_count": 77,
     "metadata": {},
     "output_type": "execute_result"
    }
   ],
   "source": [
    "#find average horsepwoer by brand\n",
    "#Add a count 1 to each record and reduce to fidn the totals of hp and counts\n",
    "\n",
    "addOne=cylHpData.mapValues(lambda x:(x,1))# will apply the function to values only\n",
    "addOne.take(5)"
   ]
  },
  {
   "cell_type": "code",
   "execution_count": 79,
   "metadata": {},
   "outputs": [
    {
     "data": {
      "text/plain": [
       "[('chevrolet', (188, 3)),\n",
       " ('mazda', (1390, 16)),\n",
       " ('mitsubishi', (1353, 13)),\n",
       " ('nissan', (1846, 18)),\n",
       " ('dodge', (675, 8)),\n",
       " ('plymouth', (607, 7)),\n",
       " ('saab', (760, 6)),\n",
       " ('volvo', (1408, 11)),\n",
       " ('alfa-romero', (376, 3)),\n",
       " ('mercedes-benz', (1170, 8)),\n",
       " ('jaguar', (614, 3)),\n",
       " ('subaru', (1035, 12)),\n",
       " ('toyota', (2969, 32)),\n",
       " ('honda', (1043, 13)),\n",
       " ('isuzu', (168, 2)),\n",
       " ('volkswagen', (973, 12)),\n",
       " ('peugot', (1098, 11)),\n",
       " ('audi', (687, 6)),\n",
       " ('bmw', (1111, 8)),\n",
       " ('mercury', ('175', 1)),\n",
       " ('porsche', (764, 4))]"
      ]
     },
     "execution_count": 79,
     "metadata": {},
     "output_type": "execute_result"
    }
   ],
   "source": [
    "brandValue=addOne.reduceByKey(lambda x, y: (int(x[0]) + int(y[0]),(x[1] + y[1])))\n",
    "brandValue.collect()"
   ]
  },
  {
   "cell_type": "code",
   "execution_count": 82,
   "metadata": {},
   "outputs": [
    {
     "data": {
      "text/plain": [
       "[('chevrolet', 62.666666666666664),\n",
       " ('mazda', 86.875),\n",
       " ('mitsubishi', 104.07692307692308),\n",
       " ('nissan', 102.55555555555556),\n",
       " ('dodge', 84.375),\n",
       " ('plymouth', 86.71428571428571),\n",
       " ('saab', 126.66666666666667),\n",
       " ('volvo', 128.0),\n",
       " ('alfa-romero', 125.33333333333333),\n",
       " ('mercedes-benz', 146.25),\n",
       " ('jaguar', 204.66666666666666),\n",
       " ('subaru', 86.25),\n",
       " ('toyota', 92.78125),\n",
       " ('honda', 80.23076923076923),\n",
       " ('isuzu', 84.0),\n",
       " ('volkswagen', 81.08333333333333),\n",
       " ('peugot', 99.81818181818181),\n",
       " ('audi', 114.5),\n",
       " ('bmw', 138.875),\n",
       " ('mercury', 175.0),\n",
       " ('porsche', 191.0)]"
      ]
     },
     "execution_count": 82,
     "metadata": {},
     "output_type": "execute_result"
    }
   ],
   "source": [
    "brandValue.mapValues(lambda x:int(x[0])/int(x[1])).collect()"
   ]
  },
  {
   "cell_type": "code",
   "execution_count": 46,
   "metadata": {},
   "outputs": [],
   "source": [
    "#............................................................................\n",
    "##   Advanced Spark : Accumulators & Broadcast Variables\n",
    "#............................................................................"
   ]
  },
  {
   "cell_type": "code",
   "execution_count": 47,
   "metadata": {},
   "outputs": [],
   "source": [
    "#function that splits the line as well as counts sedans and hatchbacks\n",
    "#Speed optimization"
   ]
  },
  {
   "cell_type": "code",
   "execution_count": 50,
   "metadata": {},
   "outputs": [],
   "source": [
    "#intialize accumulators\n",
    "sedanCount=sc.accumulator(0)\n",
    "hatchbackCount=sc.accumulator(0)"
   ]
  },
  {
   "cell_type": "code",
   "execution_count": 68,
   "metadata": {},
   "outputs": [],
   "source": [
    "#set broadcast variable\n",
    "sedanText=sc.broadcast(\"sedan\")\n",
    "hatchbackText=sc.broadcast(\"hatchback\")"
   ]
  },
  {
   "cell_type": "code",
   "execution_count": 76,
   "metadata": {},
   "outputs": [],
   "source": [
    "def splitlines(line):\n",
    "    \n",
    "    global sedanCount\n",
    "    global hatchbackCount\n",
    "    \n",
    "    #Use broadcast variable to do comparison and set accumulator\n",
    "    if sedanText.value in line:\n",
    "        sedanCount+=1\n",
    "    if hatchbackText.value in line:\n",
    "        hatchbackCount+=1\n",
    "    \n",
    "    return line.split(\",\")\n",
    "#these function known to be distributed acrooos nodes and as we have declared accumi\n",
    "# accumulators and declared them global as well so here saprk will take care of the \n",
    "# counting acrross nodes"
   ]
  },
  {
   "cell_type": "code",
   "execution_count": 77,
   "metadata": {},
   "outputs": [],
   "source": [
    "# do the map\n",
    "splitData=autoData.map(splitlines)"
   ]
  },
  {
   "cell_type": "code",
   "execution_count": 78,
   "metadata": {},
   "outputs": [
    {
     "data": {
      "text/plain": [
       "198"
      ]
     },
     "execution_count": 78,
     "metadata": {},
     "output_type": "execute_result"
    }
   ],
   "source": [
    "splitData.count()"
   ]
  },
  {
   "cell_type": "code",
   "execution_count": 79,
   "metadata": {},
   "outputs": [
    {
     "name": "stdout",
     "output_type": "stream",
     "text": [
      "sedancount is 276,hacthbackCount is 67\n"
     ]
    }
   ],
   "source": [
    "print(f\"sedancount is {sedanCount},hacthbackCount is {hatchbackCount}\")"
   ]
  },
  {
   "cell_type": "code",
   "execution_count": 80,
   "metadata": {},
   "outputs": [],
   "source": [
    "#............................................................................\n",
    "##   Advanced Spark : Partitions\n",
    "#............................................................................"
   ]
  },
  {
   "cell_type": "code",
   "execution_count": 81,
   "metadata": {},
   "outputs": [
    {
     "data": {
      "text/plain": [
       "4"
      ]
     },
     "execution_count": 81,
     "metadata": {},
     "output_type": "execute_result"
    }
   ],
   "source": [
    "collData.getNumPartitions()"
   ]
  },
  {
   "cell_type": "code",
   "execution_count": 82,
   "metadata": {},
   "outputs": [
    {
     "data": {
      "text/plain": [
       "5"
      ]
     },
     "execution_count": 82,
     "metadata": {},
     "output_type": "execute_result"
    }
   ],
   "source": [
    "#sepcuify no of partitions\n",
    "\n",
    "collData=sc.parallelize([3,5,4,7,4],2)\n",
    "collData.cache()\n",
    "collData.count()"
   ]
  },
  {
   "cell_type": "code",
   "execution_count": 84,
   "metadata": {},
   "outputs": [
    {
     "data": {
      "text/plain": [
       "2"
      ]
     },
     "execution_count": 84,
     "metadata": {},
     "output_type": "execute_result"
    }
   ],
   "source": [
    "collData.getNumPartitions()"
   ]
  },
  {
   "cell_type": "code",
   "execution_count": null,
   "metadata": {},
   "outputs": [],
   "source": []
  }
 ],
 "metadata": {
  "kernelspec": {
   "display_name": "Python 3",
   "language": "python",
   "name": "python3"
  },
  "language_info": {
   "codemirror_mode": {
    "name": "ipython",
    "version": 3
   },
   "file_extension": ".py",
   "mimetype": "text/x-python",
   "name": "python",
   "nbconvert_exporter": "python",
   "pygments_lexer": "ipython3",
   "version": "3.7.3"
  }
 },
 "nbformat": 4,
 "nbformat_minor": 2
}
