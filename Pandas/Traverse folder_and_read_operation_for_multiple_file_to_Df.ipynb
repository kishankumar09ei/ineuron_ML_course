{
 "cells": [
  {
   "cell_type": "code",
   "execution_count": 95,
   "metadata": {},
   "outputs": [],
   "source": [
    "import os                                                                                                             \n",
    "\n",
    "dir = r\"C:\\Users\\Kishan\\Desktop\\Jupyter Notebooks\\inueron ML course\\Pandas\\Files_main\"\n",
    "\n",
    "def list_files(dir):                                                                                                  \n",
    "    r = []                                                                                                            \n",
    "    subdirs = [x[0] for x in os.walk(dir)]                                                                            \n",
    "    for subdir in subdirs:                                                                                            \n",
    "        files = os.walk(subdir).__next__()[2]                                                                             \n",
    "        if (len(files) > 0):                                                                                          \n",
    "            for file in files:                                                                                        \n",
    "                r.append(subdir + \"/\" + file)                                                                         \n",
    "    return r \n",
    "\n",
    "\n",
    "\n"
   ]
  },
  {
   "cell_type": "code",
   "execution_count": null,
   "metadata": {},
   "outputs": [],
   "source": [
    "import os                                                                                                             \n",
    "\n",
    "dir = r\"C:\\Users\\Kishan\\Desktop\\Jupyter Notebooks\\inueron ML course\\Pandas\\Files_main\"\n",
    "\n",
    "def list_files(dir):                                                                                                  \n",
    "    r = []                                                                                                            \n",
    "    subdirs = [x[0] for x in os.walk(dir)]                                                                            \n",
    "    for subdir in subdirs:                                                                                            \n",
    "        files = os.walk(subdir).__next__()[2]                                                                             \n",
    "        if (len(files) > 0):                                                                                          \n",
    "            for file in files:                                                                                        \n",
    "                r.append(subdir + \"/\" + file)                                                                         \n",
    "    return r \n",
    "\n",
    "\n",
    "\n",
    "def return_doc_data_list(result):\n",
    "    lst=[]\n",
    "\n",
    "    for rows in result.split(\"\\n\"):\n",
    "        lst2=[]\n",
    "        for element in rows.split(\"\\t\"):\n",
    "            lst2.append(element)\n",
    "        lst.append(lst2)\n",
    "    lst=list(filter(lambda a: a !=[''], lst))\n",
    "    df=pd.DataFrame(lst[1:])\n",
    "    df.columns=lst[0]\n",
    "    return df\n",
    "\n",
    "\n",
    "import pandas as pd\n",
    "import docx2txt\n",
    "from tabula import read_pdf\n",
    "\n",
    "dict1={}\n",
    "for files in files_list:\n",
    "    main_dir=dir\n",
    "    \n",
    "    file_folder=files[files.rindex(\"\\\\\")+1:files.index(\"/\")]\n",
    "    file_name=files[files.index(\"/\")+1:]\n",
    "    full_file_name=main_dir+\"\\\\\"+ file_folder+\"/\"+file_name\n",
    "    if file_name[file_name.rindex(\".\")+1:] =='txt':\n",
    "        dict1[\"Folder_\"+file_folder+\"_\"+file_name]=pd.read_csv(full_file_name,sep=\"\\t\")\n",
    "    elif file_name[file_name.rindex(\".\")+1:] =='docx':\n",
    "        result=docx2txt.process(full_file_name)\n",
    "        dict1[\"Folder_\"+file_folder+\"_\"+file_name] = return_doc_data_list(result)\n",
    "    elif file_name[file_name.rindex(\".\")+1:] =='pdf':\n",
    "        df = read_pdf(full_file_name)[0]\n",
    "        dict1[\"Folder_\"+file_folder+\"_\"+file_name]=df\n",
    "        \n"
   ]
  },
  {
   "cell_type": "code",
   "execution_count": 96,
   "metadata": {},
   "outputs": [],
   "source": [
    "files_list=list_files(dir)"
   ]
  },
  {
   "cell_type": "code",
   "execution_count": 97,
   "metadata": {},
   "outputs": [
    {
     "data": {
      "text/plain": [
       "['C:\\\\Users\\\\Kishan\\\\Desktop\\\\Jupyter Notebooks\\\\inueron ML course\\\\Pandas\\\\Files_main\\\\files1/pdffile.pdf',\n",
       " 'C:\\\\Users\\\\Kishan\\\\Desktop\\\\Jupyter Notebooks\\\\inueron ML course\\\\Pandas\\\\Files_main\\\\files1/txtfile.txt',\n",
       " 'C:\\\\Users\\\\Kishan\\\\Desktop\\\\Jupyter Notebooks\\\\inueron ML course\\\\Pandas\\\\Files_main\\\\files1/wordfile.docx',\n",
       " 'C:\\\\Users\\\\Kishan\\\\Desktop\\\\Jupyter Notebooks\\\\inueron ML course\\\\Pandas\\\\Files_main\\\\files2/pdffile.pdf',\n",
       " 'C:\\\\Users\\\\Kishan\\\\Desktop\\\\Jupyter Notebooks\\\\inueron ML course\\\\Pandas\\\\Files_main\\\\files2/txtfile.txt',\n",
       " 'C:\\\\Users\\\\Kishan\\\\Desktop\\\\Jupyter Notebooks\\\\inueron ML course\\\\Pandas\\\\Files_main\\\\files2/wordfile.docx',\n",
       " 'C:\\\\Users\\\\Kishan\\\\Desktop\\\\Jupyter Notebooks\\\\inueron ML course\\\\Pandas\\\\Files_main\\\\files3/pdffile.pdf',\n",
       " 'C:\\\\Users\\\\Kishan\\\\Desktop\\\\Jupyter Notebooks\\\\inueron ML course\\\\Pandas\\\\Files_main\\\\files3/txtfile.txt',\n",
       " 'C:\\\\Users\\\\Kishan\\\\Desktop\\\\Jupyter Notebooks\\\\inueron ML course\\\\Pandas\\\\Files_main\\\\files3/wordfile.docx']"
      ]
     },
     "execution_count": 97,
     "metadata": {},
     "output_type": "execute_result"
    }
   ],
   "source": [
    "files_list"
   ]
  },
  {
   "cell_type": "code",
   "execution_count": 98,
   "metadata": {},
   "outputs": [
    {
     "data": {
      "text/plain": [
       "84"
      ]
     },
     "execution_count": 98,
     "metadata": {},
     "output_type": "execute_result"
    }
   ],
   "source": [
    "files_list[0].index(\"/\")"
   ]
  },
  {
   "cell_type": "code",
   "execution_count": 99,
   "metadata": {},
   "outputs": [
    {
     "data": {
      "text/plain": [
       "77"
      ]
     },
     "execution_count": 99,
     "metadata": {},
     "output_type": "execute_result"
    }
   ],
   "source": [
    "files_list[0].rindex(\"\\\\\")"
   ]
  },
  {
   "cell_type": "code",
   "execution_count": 100,
   "metadata": {},
   "outputs": [
    {
     "data": {
      "text/plain": [
       "'files1'"
      ]
     },
     "execution_count": 100,
     "metadata": {},
     "output_type": "execute_result"
    }
   ],
   "source": [
    "#File folder name\n",
    "files_list[0][files_list[0].rindex(\"\\\\\")+1:files_list[0].index(\"/\")]"
   ]
  },
  {
   "cell_type": "code",
   "execution_count": 101,
   "metadata": {},
   "outputs": [
    {
     "data": {
      "text/plain": [
       "'pdffile.pdf'"
      ]
     },
     "execution_count": 101,
     "metadata": {},
     "output_type": "execute_result"
    }
   ],
   "source": [
    "#file name\n",
    "files_list[0][files_list[0].index(\"/\")+1:]"
   ]
  },
  {
   "cell_type": "code",
   "execution_count": 102,
   "metadata": {},
   "outputs": [
    {
     "data": {
      "text/plain": [
       "'docx'"
      ]
     },
     "execution_count": 102,
     "metadata": {},
     "output_type": "execute_result"
    }
   ],
   "source": [
    "#file format\n",
    "files_list[5][files_list[0].rindex(\".\")+2:]"
   ]
  },
  {
   "cell_type": "code",
   "execution_count": 103,
   "metadata": {},
   "outputs": [],
   "source": [
    "\n",
    "def return_doc_data_list(result):\n",
    "    lst=[]\n",
    "\n",
    "    for rows in result.split(\"\\n\"):\n",
    "        lst2=[]\n",
    "        for element in rows.split(\"\\t\"):\n",
    "            lst2.append(element)\n",
    "        lst.append(lst2)\n",
    "    lst=list(filter(lambda a: a !=[''], lst))\n",
    "    df=pd.DataFrame(lst[1:])\n",
    "    df.columns=lst[0]\n",
    "    return df"
   ]
  },
  {
   "cell_type": "code",
   "execution_count": 104,
   "metadata": {},
   "outputs": [
    {
     "name": "stderr",
     "output_type": "stream",
     "text": [
      "'pages' argument isn't specified.Will extract only from page 1 by default.\n",
      "'pages' argument isn't specified.Will extract only from page 1 by default.\n",
      "'pages' argument isn't specified.Will extract only from page 1 by default.\n"
     ]
    }
   ],
   "source": [
    "import pandas as pd\n",
    "import docx2txt\n",
    "from tabula import read_pdf\n",
    "\n",
    "dict1={}\n",
    "for files in files_list:\n",
    "    main_dir=dir\n",
    "    \n",
    "    file_folder=files[files.rindex(\"\\\\\")+1:files.index(\"/\")]\n",
    "    file_name=files[files.index(\"/\")+1:]\n",
    "    full_file_name=main_dir+\"\\\\\"+ file_folder+\"/\"+file_name\n",
    "    if file_name[file_name.rindex(\".\")+1:] =='txt':\n",
    "        dict1[\"Folder_\"+file_folder+\"_\"+file_name]=pd.read_csv(full_file_name,sep=\"\\t\")\n",
    "    elif file_name[file_name.rindex(\".\")+1:] =='docx':\n",
    "        result=docx2txt.process(full_file_name)\n",
    "        dict1[\"Folder_\"+file_folder+\"_\"+file_name] = return_doc_data_list(result)\n",
    "    elif file_name[file_name.rindex(\".\")+1:] =='pdf':\n",
    "        df = read_pdf(full_file_name)[0]\n",
    "        dict1[\"Folder_\"+file_folder+\"_\"+file_name]=df\n",
    "        "
   ]
  },
  {
   "cell_type": "code",
   "execution_count": 105,
   "metadata": {},
   "outputs": [
    {
     "data": {
      "text/plain": [
       "dict_keys(['Folder_files1_pdffile.pdf', 'Folder_files1_txtfile.txt', 'Folder_files1_wordfile.docx', 'Folder_files2_pdffile.pdf', 'Folder_files2_txtfile.txt', 'Folder_files2_wordfile.docx', 'Folder_files3_pdffile.pdf', 'Folder_files3_txtfile.txt', 'Folder_files3_wordfile.docx'])"
      ]
     },
     "execution_count": 105,
     "metadata": {},
     "output_type": "execute_result"
    }
   ],
   "source": [
    "dict1.keys()"
   ]
  },
  {
   "cell_type": "code",
   "execution_count": 106,
   "metadata": {},
   "outputs": [
    {
     "name": "stdout",
     "output_type": "stream",
     "text": [
      "Folder_files1_pdffile.pdf\n",
      "\n",
      "\n",
      "          A       B         C    D\n",
      "0         1       2         3    3\n",
      "1         5       6         7    9\n",
      "2  “Kishan”  “Ajay”  “Shivam”  Jay\n",
      "\n",
      "\n",
      "Folder_files1_txtfile.txt\n",
      "\n",
      "\n",
      "          a      b          c      d\n",
      "0         1       2         3      4\n",
      "1         5       5         6      7\n",
      "2  “Kishan”  “ajay”  “Shivam”  “Jay”\n",
      "\n",
      "\n",
      "Folder_files1_wordfile.docx\n",
      "\n",
      "\n",
      "          a      b          c      d\n",
      "0         1       2         3      4\n",
      "1         5       5         6      7\n",
      "2  “Kishan”  “ajay”  “Shivam”  “Jay”\n",
      "\n",
      "\n",
      "Folder_files2_pdffile.pdf\n",
      "\n",
      "\n",
      "          A       B         C    D\n",
      "0         1       2         3    3\n",
      "1         5       6         7    9\n",
      "2  “Kishan”  “Ajay”  “Shivam”  Jay\n",
      "\n",
      "\n",
      "Folder_files2_txtfile.txt\n",
      "\n",
      "\n",
      "          a      b          c      d\n",
      "0         1       2         3      4\n",
      "1         5       5         6      7\n",
      "2  “Kishan”  “ajay”  “Shivam”  “Jay”\n",
      "\n",
      "\n",
      "Folder_files2_wordfile.docx\n",
      "\n",
      "\n",
      "          a      b          c      d\n",
      "0         1       2         3      4\n",
      "1         5       5         6      7\n",
      "2  “Kishan”  “ajay”  “Shivam”  “Jay”\n",
      "\n",
      "\n",
      "Folder_files3_pdffile.pdf\n",
      "\n",
      "\n",
      "          A       B         C    D\n",
      "0         1       2         3    3\n",
      "1         5       6         7    9\n",
      "2  “Kishan”  “Ajay”  “Shivam”  Jay\n",
      "\n",
      "\n",
      "Folder_files3_txtfile.txt\n",
      "\n",
      "\n",
      "          a      b          c      d\n",
      "0         1       2         3      4\n",
      "1         5       5         6      7\n",
      "2  “Kishan”  “ajay”  “Shivam”  “Jay”\n",
      "\n",
      "\n",
      "Folder_files3_wordfile.docx\n",
      "\n",
      "\n",
      "          a      b          c      d\n",
      "0         1       2         3      4\n",
      "1         5       5         6      7\n",
      "2  “Kishan”  “ajay”  “Shivam”  “Jay”\n",
      "\n",
      "\n"
     ]
    }
   ],
   "source": [
    "for key in dict1:\n",
    "    print(key)\n",
    "    print(\"\\n\")\n",
    "    print(dict1[key])\n",
    "    print(\"\\n\")"
   ]
  },
  {
   "cell_type": "code",
   "execution_count": 25,
   "metadata": {},
   "outputs": [],
   "source": [
    "import docx2txt\n",
    "\n",
    "result = docx2txt.process('C:\\\\Users\\\\Kishan\\\\Desktop\\\\Jupyter Notebooks\\\\inueron ML course\\\\Pandas\\\\Files_main\\\\files1/wordfile.docx')"
   ]
  },
  {
   "cell_type": "code",
   "execution_count": 26,
   "metadata": {},
   "outputs": [
    {
     "data": {
      "text/plain": [
       "'a\\tb \\tc\\td\\n\\n1\\t2\\t3\\t4\\n\\n5\\t5\\t6\\t7\\n\\n“Kishan”\\t“ajay”\\t“Shivam”\\t“Jay”'"
      ]
     },
     "execution_count": 26,
     "metadata": {},
     "output_type": "execute_result"
    }
   ],
   "source": [
    "result"
   ]
  },
  {
   "cell_type": "code",
   "execution_count": 28,
   "metadata": {},
   "outputs": [],
   "source": [
    "import pandas as pd"
   ]
  },
  {
   "cell_type": "code",
   "execution_count": 36,
   "metadata": {},
   "outputs": [],
   "source": [
    "\n",
    "def return_doc_data_list(result):\n",
    "    lst=[]\n",
    "\n",
    "    for rows in result.split(\"\\n\"):\n",
    "        lst2=[]\n",
    "        for element in rows.split(\"\\t\"):\n",
    "            lst2.append(element)\n",
    "        lst.append(lst2)\n",
    "    lst=list(filter(lambda a: a !=[''], lst))\n",
    "    df=pd.DataFrame(lst[1:])\n",
    "    df.columns=lst[0]\n",
    "    return df"
   ]
  },
  {
   "cell_type": "code",
   "execution_count": 37,
   "metadata": {},
   "outputs": [
    {
     "data": {
      "text/html": [
       "<div>\n",
       "<style scoped>\n",
       "    .dataframe tbody tr th:only-of-type {\n",
       "        vertical-align: middle;\n",
       "    }\n",
       "\n",
       "    .dataframe tbody tr th {\n",
       "        vertical-align: top;\n",
       "    }\n",
       "\n",
       "    .dataframe thead th {\n",
       "        text-align: right;\n",
       "    }\n",
       "</style>\n",
       "<table border=\"1\" class=\"dataframe\">\n",
       "  <thead>\n",
       "    <tr style=\"text-align: right;\">\n",
       "      <th></th>\n",
       "      <th>a</th>\n",
       "      <th>b</th>\n",
       "      <th>c</th>\n",
       "      <th>d</th>\n",
       "    </tr>\n",
       "  </thead>\n",
       "  <tbody>\n",
       "    <tr>\n",
       "      <th>0</th>\n",
       "      <td>1</td>\n",
       "      <td>2</td>\n",
       "      <td>3</td>\n",
       "      <td>4</td>\n",
       "    </tr>\n",
       "    <tr>\n",
       "      <th>1</th>\n",
       "      <td>5</td>\n",
       "      <td>5</td>\n",
       "      <td>6</td>\n",
       "      <td>7</td>\n",
       "    </tr>\n",
       "    <tr>\n",
       "      <th>2</th>\n",
       "      <td>“Kishan”</td>\n",
       "      <td>“ajay”</td>\n",
       "      <td>“Shivam”</td>\n",
       "      <td>“Jay”</td>\n",
       "    </tr>\n",
       "  </tbody>\n",
       "</table>\n",
       "</div>"
      ],
      "text/plain": [
       "          a      b          c      d\n",
       "0         1       2         3      4\n",
       "1         5       5         6      7\n",
       "2  “Kishan”  “ajay”  “Shivam”  “Jay”"
      ]
     },
     "execution_count": 37,
     "metadata": {},
     "output_type": "execute_result"
    }
   ],
   "source": [
    "return_doc_data_list(result)"
   ]
  },
  {
   "cell_type": "code",
   "execution_count": 76,
   "metadata": {},
   "outputs": [],
   "source": [
    "import textract"
   ]
  },
  {
   "cell_type": "code",
   "execution_count": 77,
   "metadata": {
    "scrolled": true
   },
   "outputs": [
    {
     "ename": "UnboundLocalError",
     "evalue": "local variable 'pipe' referenced before assignment",
     "output_type": "error",
     "traceback": [
      "\u001b[1;31m---------------------------------------------------------------------------\u001b[0m",
      "\u001b[1;31mUnboundLocalError\u001b[0m                         Traceback (most recent call last)",
      "\u001b[1;32m<ipython-input-77-b5b10a4ddd37>\u001b[0m in \u001b[0;36m<module>\u001b[1;34m\u001b[0m\n\u001b[1;32m----> 1\u001b[1;33m \u001b[0mtext\u001b[0m \u001b[1;33m=\u001b[0m \u001b[0mtextract\u001b[0m\u001b[1;33m.\u001b[0m\u001b[0mprocess\u001b[0m\u001b[1;33m(\u001b[0m\u001b[1;34m'C:\\\\Users\\\\Kishan\\\\Desktop\\\\Jupyter Notebooks\\\\inueron ML course\\\\Pandas\\\\Files_main\\\\files1/pdffile.pdf'\u001b[0m\u001b[1;33m,\u001b[0m\u001b[0mmethod\u001b[0m\u001b[1;33m=\u001b[0m\u001b[1;34m'pdfminer'\u001b[0m\u001b[1;33m)\u001b[0m\u001b[1;33m\u001b[0m\u001b[1;33m\u001b[0m\u001b[0m\n\u001b[0m",
      "\u001b[1;32m~\\Anaconda3\\lib\\site-packages\\textract\\parsers\\__init__.py\u001b[0m in \u001b[0;36mprocess\u001b[1;34m(filename, encoding, extension, **kwargs)\u001b[0m\n\u001b[0;32m     75\u001b[0m \u001b[1;33m\u001b[0m\u001b[0m\n\u001b[0;32m     76\u001b[0m     \u001b[0mparser\u001b[0m \u001b[1;33m=\u001b[0m \u001b[0mfiletype_module\u001b[0m\u001b[1;33m.\u001b[0m\u001b[0mParser\u001b[0m\u001b[1;33m(\u001b[0m\u001b[1;33m)\u001b[0m\u001b[1;33m\u001b[0m\u001b[1;33m\u001b[0m\u001b[0m\n\u001b[1;32m---> 77\u001b[1;33m     \u001b[1;32mreturn\u001b[0m \u001b[0mparser\u001b[0m\u001b[1;33m.\u001b[0m\u001b[0mprocess\u001b[0m\u001b[1;33m(\u001b[0m\u001b[0mfilename\u001b[0m\u001b[1;33m,\u001b[0m \u001b[0mencoding\u001b[0m\u001b[1;33m,\u001b[0m \u001b[1;33m**\u001b[0m\u001b[0mkwargs\u001b[0m\u001b[1;33m)\u001b[0m\u001b[1;33m\u001b[0m\u001b[1;33m\u001b[0m\u001b[0m\n\u001b[0m\u001b[0;32m     78\u001b[0m \u001b[1;33m\u001b[0m\u001b[0m\n\u001b[0;32m     79\u001b[0m \u001b[1;33m\u001b[0m\u001b[0m\n",
      "\u001b[1;32m~\\Anaconda3\\lib\\site-packages\\textract\\parsers\\utils.py\u001b[0m in \u001b[0;36mprocess\u001b[1;34m(self, filename, encoding, **kwargs)\u001b[0m\n\u001b[0;32m     44\u001b[0m         \u001b[1;31m# output encoding\u001b[0m\u001b[1;33m\u001b[0m\u001b[1;33m\u001b[0m\u001b[1;33m\u001b[0m\u001b[0m\n\u001b[0;32m     45\u001b[0m         \u001b[1;31m# http://nedbatchelder.com/text/unipain/unipain.html#35\u001b[0m\u001b[1;33m\u001b[0m\u001b[1;33m\u001b[0m\u001b[1;33m\u001b[0m\u001b[0m\n\u001b[1;32m---> 46\u001b[1;33m         \u001b[0mbyte_string\u001b[0m \u001b[1;33m=\u001b[0m \u001b[0mself\u001b[0m\u001b[1;33m.\u001b[0m\u001b[0mextract\u001b[0m\u001b[1;33m(\u001b[0m\u001b[0mfilename\u001b[0m\u001b[1;33m,\u001b[0m \u001b[1;33m**\u001b[0m\u001b[0mkwargs\u001b[0m\u001b[1;33m)\u001b[0m\u001b[1;33m\u001b[0m\u001b[1;33m\u001b[0m\u001b[0m\n\u001b[0m\u001b[0;32m     47\u001b[0m         \u001b[0municode_string\u001b[0m \u001b[1;33m=\u001b[0m \u001b[0mself\u001b[0m\u001b[1;33m.\u001b[0m\u001b[0mdecode\u001b[0m\u001b[1;33m(\u001b[0m\u001b[0mbyte_string\u001b[0m\u001b[1;33m)\u001b[0m\u001b[1;33m\u001b[0m\u001b[1;33m\u001b[0m\u001b[0m\n\u001b[0;32m     48\u001b[0m         \u001b[1;32mreturn\u001b[0m \u001b[0mself\u001b[0m\u001b[1;33m.\u001b[0m\u001b[0mencode\u001b[0m\u001b[1;33m(\u001b[0m\u001b[0municode_string\u001b[0m\u001b[1;33m,\u001b[0m \u001b[0mencoding\u001b[0m\u001b[1;33m)\u001b[0m\u001b[1;33m\u001b[0m\u001b[1;33m\u001b[0m\u001b[0m\n",
      "\u001b[1;32m~\\Anaconda3\\lib\\site-packages\\textract\\parsers\\pdf_parser.py\u001b[0m in \u001b[0;36mextract\u001b[1;34m(self, filename, method, **kwargs)\u001b[0m\n\u001b[0;32m     29\u001b[0m \u001b[1;33m\u001b[0m\u001b[0m\n\u001b[0;32m     30\u001b[0m         \u001b[1;32melif\u001b[0m \u001b[0mmethod\u001b[0m \u001b[1;33m==\u001b[0m \u001b[1;34m'pdfminer'\u001b[0m\u001b[1;33m:\u001b[0m\u001b[1;33m\u001b[0m\u001b[1;33m\u001b[0m\u001b[0m\n\u001b[1;32m---> 31\u001b[1;33m             \u001b[1;32mreturn\u001b[0m \u001b[0mself\u001b[0m\u001b[1;33m.\u001b[0m\u001b[0mextract_pdfminer\u001b[0m\u001b[1;33m(\u001b[0m\u001b[0mfilename\u001b[0m\u001b[1;33m,\u001b[0m \u001b[1;33m**\u001b[0m\u001b[0mkwargs\u001b[0m\u001b[1;33m)\u001b[0m\u001b[1;33m\u001b[0m\u001b[1;33m\u001b[0m\u001b[0m\n\u001b[0m\u001b[0;32m     32\u001b[0m         \u001b[1;32melif\u001b[0m \u001b[0mmethod\u001b[0m \u001b[1;33m==\u001b[0m \u001b[1;34m'tesseract'\u001b[0m\u001b[1;33m:\u001b[0m\u001b[1;33m\u001b[0m\u001b[1;33m\u001b[0m\u001b[0m\n\u001b[0;32m     33\u001b[0m             \u001b[1;32mreturn\u001b[0m \u001b[0mself\u001b[0m\u001b[1;33m.\u001b[0m\u001b[0mextract_tesseract\u001b[0m\u001b[1;33m(\u001b[0m\u001b[0mfilename\u001b[0m\u001b[1;33m,\u001b[0m \u001b[1;33m**\u001b[0m\u001b[0mkwargs\u001b[0m\u001b[1;33m)\u001b[0m\u001b[1;33m\u001b[0m\u001b[1;33m\u001b[0m\u001b[0m\n",
      "\u001b[1;32m~\\Anaconda3\\lib\\site-packages\\textract\\parsers\\pdf_parser.py\u001b[0m in \u001b[0;36mextract_pdfminer\u001b[1;34m(self, filename, **kwargs)\u001b[0m\n\u001b[0;32m     46\u001b[0m     \u001b[1;32mdef\u001b[0m \u001b[0mextract_pdfminer\u001b[0m\u001b[1;33m(\u001b[0m\u001b[0mself\u001b[0m\u001b[1;33m,\u001b[0m \u001b[0mfilename\u001b[0m\u001b[1;33m,\u001b[0m \u001b[1;33m**\u001b[0m\u001b[0mkwargs\u001b[0m\u001b[1;33m)\u001b[0m\u001b[1;33m:\u001b[0m\u001b[1;33m\u001b[0m\u001b[1;33m\u001b[0m\u001b[0m\n\u001b[0;32m     47\u001b[0m         \u001b[1;34m\"\"\"Extract text from pdfs using pdfminer.\"\"\"\u001b[0m\u001b[1;33m\u001b[0m\u001b[1;33m\u001b[0m\u001b[0m\n\u001b[1;32m---> 48\u001b[1;33m         \u001b[0mstdout\u001b[0m\u001b[1;33m,\u001b[0m \u001b[0m_\u001b[0m \u001b[1;33m=\u001b[0m \u001b[0mself\u001b[0m\u001b[1;33m.\u001b[0m\u001b[0mrun\u001b[0m\u001b[1;33m(\u001b[0m\u001b[1;33m[\u001b[0m\u001b[1;34m'pdf2txt.py'\u001b[0m\u001b[1;33m,\u001b[0m \u001b[0mfilename\u001b[0m\u001b[1;33m]\u001b[0m\u001b[1;33m)\u001b[0m\u001b[1;33m\u001b[0m\u001b[1;33m\u001b[0m\u001b[0m\n\u001b[0m\u001b[0;32m     49\u001b[0m         \u001b[1;32mreturn\u001b[0m \u001b[0mstdout\u001b[0m\u001b[1;33m\u001b[0m\u001b[1;33m\u001b[0m\u001b[0m\n\u001b[0;32m     50\u001b[0m \u001b[1;33m\u001b[0m\u001b[0m\n",
      "\u001b[1;32m~\\Anaconda3\\lib\\site-packages\\textract\\parsers\\utils.py\u001b[0m in \u001b[0;36mrun\u001b[1;34m(self, args)\u001b[0m\n\u001b[0;32m     94\u001b[0m         \u001b[1;31m# pipe.wait() ends up hanging on large files. using\u001b[0m\u001b[1;33m\u001b[0m\u001b[1;33m\u001b[0m\u001b[1;33m\u001b[0m\u001b[0m\n\u001b[0;32m     95\u001b[0m         \u001b[1;31m# pipe.communicate appears to avoid this issue\u001b[0m\u001b[1;33m\u001b[0m\u001b[1;33m\u001b[0m\u001b[1;33m\u001b[0m\u001b[0m\n\u001b[1;32m---> 96\u001b[1;33m         \u001b[0mstdout\u001b[0m\u001b[1;33m,\u001b[0m \u001b[0mstderr\u001b[0m \u001b[1;33m=\u001b[0m \u001b[0mpipe\u001b[0m\u001b[1;33m.\u001b[0m\u001b[0mcommunicate\u001b[0m\u001b[1;33m(\u001b[0m\u001b[1;33m)\u001b[0m\u001b[1;33m\u001b[0m\u001b[1;33m\u001b[0m\u001b[0m\n\u001b[0m\u001b[0;32m     97\u001b[0m \u001b[1;33m\u001b[0m\u001b[0m\n\u001b[0;32m     98\u001b[0m         \u001b[1;31m# if pipe is busted, raise an error (unlike Fabric)\u001b[0m\u001b[1;33m\u001b[0m\u001b[1;33m\u001b[0m\u001b[1;33m\u001b[0m\u001b[0m\n",
      "\u001b[1;31mUnboundLocalError\u001b[0m: local variable 'pipe' referenced before assignment"
     ]
    }
   ],
   "source": [
    "text = textract.process('C:\\\\Users\\\\Kishan\\\\Desktop\\\\Jupyter Notebooks\\\\inueron ML course\\\\Pandas\\\\Files_main\\\\files1/pdffile.pdf',method='pdfminer')"
   ]
  },
  {
   "cell_type": "code",
   "execution_count": 12,
   "metadata": {},
   "outputs": [
    {
     "name": "stdout",
     "output_type": "stream",
     "text": [
      "Collecting tabula-py\n",
      "  Using cached https://files.pythonhosted.org/packages/8d/ed/20655a47a603430272c995d908d0dd96f93c2aa8973c8a55a66c8f3b8dfe/tabula_py-2.1.1-py3-none-any.whl\n",
      "Requirement already satisfied: numpy in c:\\users\\kishan\\anaconda3\\lib\\site-packages (from tabula-py) (1.16.4)\n",
      "Collecting pandas>=0.25.3 (from tabula-py)\n",
      "  Using cached https://files.pythonhosted.org/packages/da/90/44d5e0a5d42506d2e31544c8f44c54be88c2128f6fc482c01de29ecfb365/pandas-1.0.5-cp37-cp37m-win_amd64.whl\n",
      "Collecting distro (from tabula-py)\n",
      "  Using cached https://files.pythonhosted.org/packages/25/b7/b3c4270a11414cb22c6352ebc7a83aaa3712043be29daa05018fd5a5c956/distro-1.5.0-py2.py3-none-any.whl\n",
      "Requirement already satisfied: pytz>=2017.2 in c:\\users\\kishan\\anaconda3\\lib\\site-packages (from pandas>=0.25.3->tabula-py) (2019.1)\n",
      "Requirement already satisfied: python-dateutil>=2.6.1 in c:\\users\\kishan\\anaconda3\\lib\\site-packages (from pandas>=0.25.3->tabula-py) (2.8.0)\n",
      "Requirement already satisfied: six>=1.5 in c:\\users\\kishan\\anaconda3\\lib\\site-packages (from python-dateutil>=2.6.1->pandas>=0.25.3->tabula-py) (1.12.0)\n",
      "Installing collected packages: pandas, distro, tabula-py\n",
      "  Found existing installation: pandas 0.24.2\n",
      "    Uninstalling pandas-0.24.2:\n",
      "      Successfully uninstalled pandas-0.24.2\n",
      "Successfully installed distro-1.5.0 pandas-1.0.5 tabula-py-2.1.1\n"
     ]
    }
   ],
   "source": [
    "!pip install tabula-py"
   ]
  },
  {
   "cell_type": "code",
   "execution_count": 22,
   "metadata": {},
   "outputs": [
    {
     "name": "stderr",
     "output_type": "stream",
     "text": [
      "'pages' argument isn't specified.Will extract only from page 1 by default.\n"
     ]
    }
   ],
   "source": [
    "from tabula import read_pdf\n",
    "\n",
    "# Read pdf into list of DataFrame\n",
    "df = read_pdf('C:\\\\Users\\\\Kishan\\\\Desktop\\\\Jupyter Notebooks\\\\inueron ML course\\\\Pandas\\\\Files_main\\\\files1/pdffile.pdf')[0]"
   ]
  },
  {
   "cell_type": "code",
   "execution_count": 23,
   "metadata": {},
   "outputs": [
    {
     "data": {
      "text/html": [
       "<div>\n",
       "<style scoped>\n",
       "    .dataframe tbody tr th:only-of-type {\n",
       "        vertical-align: middle;\n",
       "    }\n",
       "\n",
       "    .dataframe tbody tr th {\n",
       "        vertical-align: top;\n",
       "    }\n",
       "\n",
       "    .dataframe thead th {\n",
       "        text-align: right;\n",
       "    }\n",
       "</style>\n",
       "<table border=\"1\" class=\"dataframe\">\n",
       "  <thead>\n",
       "    <tr style=\"text-align: right;\">\n",
       "      <th></th>\n",
       "      <th>A</th>\n",
       "      <th>B</th>\n",
       "      <th>C</th>\n",
       "      <th>D</th>\n",
       "    </tr>\n",
       "  </thead>\n",
       "  <tbody>\n",
       "    <tr>\n",
       "      <th>0</th>\n",
       "      <td>1</td>\n",
       "      <td>2</td>\n",
       "      <td>3</td>\n",
       "      <td>3</td>\n",
       "    </tr>\n",
       "    <tr>\n",
       "      <th>1</th>\n",
       "      <td>5</td>\n",
       "      <td>6</td>\n",
       "      <td>7</td>\n",
       "      <td>9</td>\n",
       "    </tr>\n",
       "    <tr>\n",
       "      <th>2</th>\n",
       "      <td>“Kishan”</td>\n",
       "      <td>“Ajay”</td>\n",
       "      <td>“Shivam”</td>\n",
       "      <td>Jay</td>\n",
       "    </tr>\n",
       "  </tbody>\n",
       "</table>\n",
       "</div>"
      ],
      "text/plain": [
       "          A       B         C    D\n",
       "0         1       2         3    3\n",
       "1         5       6         7    9\n",
       "2  “Kishan”  “Ajay”  “Shivam”  Jay"
      ]
     },
     "execution_count": 23,
     "metadata": {},
     "output_type": "execute_result"
    }
   ],
   "source": [
    "df"
   ]
  },
  {
   "cell_type": "code",
   "execution_count": null,
   "metadata": {},
   "outputs": [],
   "source": []
  }
 ],
 "metadata": {
  "kernelspec": {
   "display_name": "Python 3",
   "language": "python",
   "name": "python3"
  },
  "language_info": {
   "codemirror_mode": {
    "name": "ipython",
    "version": 3
   },
   "file_extension": ".py",
   "mimetype": "text/x-python",
   "name": "python",
   "nbconvert_exporter": "python",
   "pygments_lexer": "ipython3",
   "version": "3.7.3"
  }
 },
 "nbformat": 4,
 "nbformat_minor": 2
}
